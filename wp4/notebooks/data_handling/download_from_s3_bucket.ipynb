{
 "cells": [
  {
   "cell_type": "code",
   "execution_count": null,
   "id": "56ad0ae0",
   "metadata": {},
   "outputs": [],
   "source": [
    "import boto3\n",
    "import zipfile\n",
    "import os, sys, glob\n",
    "from pathlib import Path\n",
    "\n",
    "# adds the package path to the Python path to make sure all the local imports work fine \n",
    "if os.path.dirname(os.path.dirname(os.path.dirname(os.getcwd()))) not in sys.path:\n",
    "    sys.path.append(os.path.dirname(os.path.dirname(os.path.dirname(os.getcwd()))))\n",
    "    \n",
    "from wp4.constants import S3_ACCESS_KEY, S3_SECRET_KEY, S3_ENDPOINT, DATA_DIR_GFAS, DATA_DIR_ERA5, DATA_DIR_CAMS, DATA_DIR_LC"
   ]
  },
  {
   "cell_type": "markdown",
   "id": "d74e100d",
   "metadata": {},
   "source": [
    "### Initiate S3 client & check buckets"
   ]
  },
  {
   "cell_type": "code",
   "execution_count": null,
   "id": "e06eddef",
   "metadata": {},
   "outputs": [],
   "source": [
    "s3_client = boto3.client(\n",
    "    's3',\n",
    "    aws_access_key_id=S3_ACCESS_KEY,\n",
    "    aws_secret_access_key=S3_SECRET_KEY,\n",
    "    endpoint_url=S3_ENDPOINT\n",
    ")\n",
    "\n",
    "existing_bucket_names = [bucket['Name'] for bucket in s3_client.list_buckets()['Buckets']]\n",
    "print(f'Current buckets: {\", \".join(existing_bucket_names)}')"
   ]
  },
  {
   "cell_type": "markdown",
   "id": "b84307fb",
   "metadata": {},
   "source": [
    "### Download file"
   ]
  },
  {
   "cell_type": "code",
   "execution_count": null,
   "id": "8b240b62",
   "metadata": {},
   "outputs": [],
   "source": [
    "TARGET_BUCKET = 'bucket_name' # S3 bucket where the file is stored\n",
    "FILE = 'file_name'  # name of the file\n",
    "DATA_DIR = Path(\"path_to_the_dir\")  # Directory where the file is located\n",
    "\n",
    "try:\n",
    "    s3_client.download_file(\n",
    "        TARGET_BUCKET,\n",
    "        f'{FILE}.zip',\n",
    "        DATA_DIR.joinpath(f'{FILE}.zip').as_posix()\n",
    "    )\n",
    "    \n",
    "    with zipfile.ZipFile(DATA_DIR.joinpath(f'{FILE}.zip'), 'r') as zip_ref:\n",
    "                zip_ref.extractall(DATA_DIR)\n",
    "except Exception:\n",
    "    raise\n",
    "else:\n",
    "    print(f'Download for \"{FILE}.zip\" completed')"
   ]
  }
 ],
 "metadata": {
  "kernelspec": {
   "display_name": "Python 3 (ipykernel)",
   "language": "python",
   "name": "python3"
  },
  "language_info": {
   "codemirror_mode": {
    "name": "ipython",
    "version": 3
   },
   "file_extension": ".py",
   "mimetype": "text/x-python",
   "name": "python",
   "nbconvert_exporter": "python",
   "pygments_lexer": "ipython3",
   "version": "3.9.6"
  }
 },
 "nbformat": 4,
 "nbformat_minor": 5
}

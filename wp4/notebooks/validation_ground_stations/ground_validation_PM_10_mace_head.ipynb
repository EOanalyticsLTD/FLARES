{
 "cells": [
  {
   "cell_type": "code",
   "execution_count": null,
   "metadata": {},
   "outputs": [],
   "source": [
    "import xarray as xr \n",
    "import os\n",
    "import sys\n",
    "import datetime \n",
    "import pandas as pd \n",
    "import numpy as np\n",
    "from pathlib import Path\n",
    "import matplotlib.pyplot as plt\n",
    "from scipy.stats import pearsonr, spearmanr\n",
    "\n",
    "# adds the package path to the Python path to make sure all the local imports work fine \n",
    "if os.path.dirname(os.path.dirname(os.getcwd())) not in sys.path:\n",
    "    sys.path.append(os.path.dirname(os.path.dirname(os.getcwd())))\n",
    "    \n",
    "from constants import POLLUTANTS, DATA_DIR_CAMS"
   ]
  },
  {
   "cell_type": "code",
   "execution_count": null,
   "metadata": {},
   "outputs": [],
   "source": [
    "start_date = datetime.datetime(year=2019, month=1, day=1)\n",
    "\n",
    "def convert_string_to_datetime(x):\n",
    "    \"\"\"\n",
    "    Function date turns the hourstamps into datetime objects\n",
    "    \"\"\"\n",
    "    return start_date + datetime.timedelta(hours=round(x*24))"
   ]
  },
  {
   "cell_type": "code",
   "execution_count": null,
   "metadata": {},
   "outputs": [],
   "source": [
    "mace_head_loc = {  # coordinates of the mace head location\n",
    "    'latitude':53.326130,\n",
    "    'longitude':-9.900343\n",
    "}\n",
    "\n",
    "ground_path = Path(\"data/mace_head/PM10/pm10_2019.csv\")\n",
    "cams_path = Path(DATA_DIR_CAMS).joinpath(f\"{POLLUTANTS['PM10']['CAMS']}.nc\")\n",
    "\n",
    "# Preprocessing Mace Head data\n",
    "\n",
    "PM10_ground = pd.read_csv(ground_path)  # read csv as pandas dataframe\n",
    "PM10_ground['time'] = PM10_ground['start_time'].apply(convert_string_to_datetime) # convert hour stamps to datetime\n",
    "PM10_ground = PM10_ground[['time', 'pm10']]  # select datetime and PM10 measurements\n",
    "PM10_ground.set_index('time', inplace=True)  # set datetime as index, will be used later to join datasets\n",
    "\n",
    "\n",
    "# Preprocessing the CAMS observations\n",
    "cams_obs = xr.open_dataset(cams_path)\n",
    "# select the CAMS observations for ozone closest to the Mace Head location\n",
    "PM10_cams = cams_obs.pm10_conc.sel(\n",
    "    latitude=mace_head_loc['latitude'],\n",
    "    longitude=mace_head_loc['longitude'],\n",
    "    level=0,\n",
    "    method='nearest')\n",
    "\n",
    "# convert the xarray object into into a pandas dataframe\n",
    "PM10_cams = pd.DataFrame(data=PM10_cams.to_pandas(), columns=['PM10 cams'])\n",
    "\n",
    "\n",
    "# Join the CO observations from CAMS and Mace Head into a single pandas dataframe\n",
    "PM10 = PM10_ground.rename(columns={'pm10':'PM10 ground'}).join(PM10_cams, how='right')\n",
    "PM10 = PM10.copy()\n",
    "PM10['PM10 ground'] = PM10['PM10 ground'].astype('float')  # convert column from string to float\n",
    "PM10 = PM10.replace(999.99, np.nan)  # set the 999.99 values as NoData\n",
    "# As there is a considerable data gap during the first 6 months of the year, \n",
    "# only the last 6 months are used to calculate the correlation coefficient\n",
    "PM10 = PM10[PM10.index > datetime.datetime(year=2019, month=6, day=30, hour=23, minute=59)]"
   ]
  },
  {
   "cell_type": "code",
   "execution_count": null,
   "metadata": {},
   "outputs": [],
   "source": [
    "ax = plt.gca()  # matplotlib axes\n",
    "F = plt.gcf()  # matplotlib figure\n",
    "Size = F.get_size_inches() \n",
    "F.set_size_inches(Size[0]*2.5, Size[1]*2.5, forward=True) # resize the figure\n",
    "\n",
    "# Calculate the moving average over one week (168 hours),\n",
    "# as it makes it easier to interpret a dataset with many observations\n",
    "\n",
    "PM10['PM10 MA ground'] = PM10['PM10 ground'].dropna().rolling(window=168).mean()\n",
    "PM10['PM10 MA cams'] = PM10['PM10 cams'].dropna().rolling(window=168).mean()\n",
    "\n",
    "# Drop the Ground Data NA rows from the DF\n",
    "PM10 = PM10.dropna(subset=['PM10 ground'])\n",
    "\n",
    "PM10.reset_index().plot(kind='line',x='time',y='PM10 MA ground',ax=ax)\n",
    "PM10.reset_index().plot(kind='line',x='time',y='PM10 MA cams', color='red', ax=ax)\n",
    "\n",
    "ax.set_xlabel('Time')  # Add an x-label to the axes.\n",
    "ax.set_ylabel('PM 10 µg m-3')  # Add a y-label to the axes.\n",
    "ax.set_title(\"Ground vs Cams PM 10 Concentrations 2019 Mace Head 1 Week Moving Average\")  # Add a title to the axes.\n",
    "ax.legend()  # Add a legend."
   ]
  },
  {
   "cell_type": "code",
   "execution_count": null,
   "metadata": {},
   "outputs": [],
   "source": [
    "# plot the histograms of the datasets, to assess the distribution of the values\n",
    "PM10.dropna().hist(bins=50)"
   ]
  },
  {
   "cell_type": "code",
   "execution_count": null,
   "metadata": {},
   "outputs": [],
   "source": [
    "# Calculate the correlation coefficients for both the Moving Average as well as the original datasets\n",
    "\n",
    "PM10 = PM10.dropna()\n",
    "\n",
    "p_MA = pearsonr(\n",
    "    PM10['PM10 MA ground'],\n",
    "    PM10['PM10 MA cams']\n",
    ")\n",
    "\n",
    "p_PM10 = pearsonr(\n",
    "    PM10['PM10 ground'],\n",
    "    PM10['PM10 cams']\n",
    ")\n",
    "\n",
    "\n",
    "s_MA = spearmanr(\n",
    "    PM10['PM10 MA ground'],\n",
    "    PM10['PM10 MA cams']\n",
    ")\n",
    "\n",
    "s_PM10 = spearmanr(\n",
    "    PM10['PM10 ground'],\n",
    "    PM10['PM10 cams']\n",
    ")\n",
    "\n",
    "print(\n",
    "    f\"\"\"\n",
    "    Pearson R: {p_PM10[0]} - p-value: {p_PM10[1]} \\n\n",
    "    Pearson R Moving Average: {p_MA[0]} - p-value: {p_MA[1]} \\n\n",
    "    Spearman R: {s_PM10[0]} - p-value: {s_PM10[1]} \\n\n",
    "    Spearman R Moving Average: {s_MA[0]} - p-value: {s_MA[1]} \\n\n",
    "    \"\"\"\n",
    ")"
   ]
  }
 ],
 "metadata": {
  "kernelspec": {
   "display_name": "Python 3",
   "language": "python",
   "name": "python3"
  },
  "language_info": {
   "codemirror_mode": {
    "name": "ipython",
    "version": 3
   },
   "file_extension": ".py",
   "mimetype": "text/x-python",
   "name": "python",
   "nbconvert_exporter": "python",
   "pygments_lexer": "ipython3",
   "version": "3.6.13"
  }
 },
 "nbformat": 4,
 "nbformat_minor": 4
}

{
 "cells": [
  {
   "cell_type": "markdown",
   "metadata": {},
   "source": [
    "# Overall deviation from Baseline\n",
    "\n",
    "This notebook contains the code used to load a subset of fire events from the database and calculate the deviation from the baseline for each of the selected fire events. Next, some descriptive statistics regarding the deviation from the baseline for all the selected fire events are visualized in a line graph. "
   ]
  },
  {
   "cell_type": "code",
   "execution_count": 1,
   "metadata": {},
   "outputs": [],
   "source": [
    "# load the required packages\n",
    "import os\n",
    "import sys\n",
    "import psycopg2\n",
    "import numpy as np\n",
    "import pandas as pd\n",
    "from scipy import stats\n",
    "from pathlib import Path\n",
    "\n",
    "import plotly.io as pio\n",
    "import plotly.graph_objects as go\n",
    "\n",
    "# adds the package path to the Python path to make sure all the local imports work fine \n",
    "if os.path.dirname(os.path.dirname(os.path.dirname(os.getcwd()))) not in sys.path:\n",
    "    sys.path.append(os.path.dirname(os.path.dirname(os.path.dirname(os.getcwd()))))\n",
    "\n",
    "# local imports \n",
    "from wp4.constants import POLLUTANTS, DB_HOST, DB_NAME, DB_USER, DB_PASS, DATA_DIR_CAMS_AN, DATA_DIR_PLOTS\n",
    "from wp4.baseline.spatial import get_spatial_baseline\n",
    "from wp4.baseline.temporal import get_temporal_baseline"
   ]
  },
  {
   "cell_type": "markdown",
   "metadata": {},
   "source": [
    "## Initiate connection to the database and load information for the group of fire event to analyse from the fire event table.  "
   ]
  },
  {
   "cell_type": "code",
   "execution_count": null,
   "metadata": {},
   "outputs": [],
   "source": [
    "# initiate connection to database\n",
    "conn = psycopg2.connect(dbname=DB_NAME, user=DB_USER, password=DB_PASS, host=DB_HOST)\n",
    "\n",
    "# Query to retrieve fire event info from the database.\n",
    "# This particular example loads all fire events picked up by the Aqua/Terra satellites.\n",
    "\n",
    "query = \"\"\"  \n",
    "    SELECT id, datetime, ST_X(geometry), ST_Y(geometry), source, location, reference, type, info\n",
    "    FROM public.all_fire_events\n",
    "    WHERE reference = 'Aqua' OR reference = 'Terra' AND \"frp\" > 50 AND \"frp\" IS NOT NULL\n",
    "\"\"\"\n",
    "\n",
    "# Load as a dataframe\n",
    "df_fire_events = pd.read_sql_query(query,con=conn).rename(columns = {'st_x':'longitude', 'st_y':'latitude'})\n",
    "\n",
    "# close the connection\n",
    "conn.close()"
   ]
  },
  {
   "cell_type": "code",
   "execution_count": null,
   "metadata": {},
   "outputs": [],
   "source": [
    "def create_dataframe(main_df, df_to_join, index, new_col_name):\n",
    "    \"\"\"\n",
    "    Function to join baseline deviation dataframes into a single dataframe\n",
    "    :param main_df: The main pandas dataframe, to which all other deviation dataframes are joined\n",
    "    :param df_to_join: The dataframe to join with the main dataframe\n",
    "    :param index: the hour_from_event data from the baseline dataframe, this will serve as the join column\n",
    "    :param new_col_name: name of the new column, storing the baseline deviation information \n",
    "    :return:\n",
    "    \"\"\"\n",
    "\n",
    "    if main_df is None:\n",
    "        main_df = pd.DataFrame({\n",
    "            'hours_from_fe': index,\n",
    "            new_col_name: df_to_join}\n",
    "        )\n",
    "    else:\n",
    "        df_to_join = pd.DataFrame({\n",
    "            'hours_from_fe': index,\n",
    "            new_col_name: df_to_join}\n",
    "        )\n",
    "        main_df = pd.merge(\n",
    "            main_df, df_to_join,\n",
    "            left_on='hours_from_fe',\n",
    "            right_on='hours_from_fe'\n",
    "        )\n",
    "\n",
    "    return main_df"
   ]
  },
  {
   "cell_type": "markdown",
   "metadata": {},
   "source": [
    "## Next, for each of the fire events in the database the difference and percent difference between the concentration level during a time window around the fire event and the baselines is calculated and combined into a single dataframe.\n",
    "\n",
    "This can take a while to run"
   ]
  },
  {
   "cell_type": "code",
   "execution_count": null,
   "metadata": {},
   "outputs": [],
   "source": [
    "pollutant_difference_pol_tp = {}\n",
    "pollutant_difference_percent_pol_tp = {}\n",
    "\n",
    "pollutant_difference_pol_sp = {}\n",
    "pollutant_difference_percent_pol_sp = {}\n",
    "\n",
    "\n",
    "for pol in ['PM25', 'PM10']: # SO2','CO', 'O3', 'NO', 'NO2',  \n",
    "\n",
    "    # some variables to store the deviation dataframes in\n",
    "    pollutant_difference_tp = None\n",
    "    pollutant_difference_percent_tp = None\n",
    "    \n",
    "    pollutant_difference_sp = None\n",
    "    pollutant_difference_percent_sp = None\n",
    "\n",
    "\n",
    "    for ind, fe in df_fire_events.iterrows(): # iterate over the fire event dataframe\n",
    "        \n",
    "        # get the baseline information\n",
    "        df_temporal_baseline = get_temporal_baseline(\n",
    "            fe_lat=fe['latitude'],\n",
    "            fe_long=fe['longitude'],\n",
    "            timestamp=fe['datetime'],\n",
    "            days=5,\n",
    "            pollutant=pol,\n",
    "        )\n",
    "        \n",
    "        df_spatial_baseline, _, _, _ = get_spatial_baseline(\n",
    "            fe['latitude'],\n",
    "            fe['longitude'],\n",
    "            fe['datetime'],\n",
    "            5,\n",
    "            pol,\n",
    "            meteo_dataset='MERA',\n",
    "            min_distance_km=30,\n",
    "            max_distance_km=200,\n",
    "            number_of_neighbours=50,\n",
    "            mask_ocean=True,\n",
    "        )\n",
    "        \n",
    "        del _  # remove unused variable from memory\n",
    "        \n",
    "        if df_spatial_baseline is None or df_temporal_baseline is None:\n",
    "            continue  # skip the fire event in case no baseline could be retrieved\n",
    "        \n",
    "        # Calculate difference between baseline and concentration levels during fe\n",
    "        difference_tp = df_temporal_baseline['fire_event'] - df_temporal_baseline['temporal_baseline_median']\n",
    "        difference_percent_tp = df_temporal_baseline[\n",
    "            ['temporal_baseline_median', 'fire_event']].pct_change(axis='columns', periods=1)['fire_event']*100\n",
    "\n",
    "        difference_sp = df_spatial_baseline['fire_event'] - df_spatial_baseline['spatial_baseline_median']\n",
    "        difference_percent_sp = df_spatial_baseline[\n",
    "            ['spatial_baseline_median', 'fire_event']].pct_change(axis='columns', periods=1)['fire_event']*100\n",
    "        \n",
    "        \n",
    "        # create/combine dataframe containing the deviation for each fire event as a column\n",
    "        pollutant_difference_tp =  create_dataframe(\n",
    "            pollutant_difference_tp,\n",
    "            difference_tp,\n",
    "            list(df_temporal_baseline['hour_from_event']),\n",
    "            ind,\n",
    "        )\n",
    "        \n",
    "        pollutant_difference_percent_tp = create_dataframe(\n",
    "            pollutant_difference_percent_tp,\n",
    "            difference_percent_tp,\n",
    "            list(df_temporal_baseline['hour_from_event']),\n",
    "            ind,\n",
    "        )\n",
    "        \n",
    "        pollutant_difference_sp = create_dataframe(\n",
    "            pollutant_difference_sp,\n",
    "            difference_sp,\n",
    "            list(df_spatial_baseline['hour_from_event']),\n",
    "            ind,\n",
    "        )\n",
    "        \n",
    "        pollutant_difference_percent_sp = create_dataframe(\n",
    "            pollutant_difference_percent_sp,\n",
    "            difference_percent_sp,\n",
    "            list(df_spatial_baseline['hour_from_event']),\n",
    "            ind,\n",
    "        )\n",
    "        \n",
    "    # store the final dataframe with deviation info for each pollutant in a dict for later use\n",
    "    pollutant_difference_pol_tp[pol] = pollutant_difference_tp\n",
    "    pollutant_difference_percent_pol_tp[pol] = pollutant_difference_percent_tp\n",
    "    pollutant_difference_pol_sp[pol] = pollutant_difference_sp\n",
    "    pollutant_difference_percent_pol_sp[pol] = pollutant_difference_percent_sp  "
   ]
  },
  {
   "cell_type": "markdown",
   "metadata": {},
   "source": [
    "## Write the dataframes to csv, just in case"
   ]
  },
  {
   "cell_type": "code",
   "execution_count": null,
   "metadata": {},
   "outputs": [],
   "source": [
    "for pol in pollutant_difference_percent_pol_tp:\n",
    "    \n",
    "    if pollutant_difference_percent_pol_tp[pol] is None:\n",
    "        continue\n",
    "    \n",
    "    df_perc = pollutant_difference_percent_pol_tp[pol].transpose()\n",
    "    df_conc = pollutant_difference_pol_tp[pol].transpose()\n",
    "    \n",
    "    csv_loc = Path(DATA_DIR_PLOTS).joinpath('notebooks/baseline_deviation/temporal/csv')\n",
    "    \n",
    "    if not os.path.exists(csv_loc):\n",
    "            os.makedirs(csv_loc)\n",
    "            \n",
    "    df_perc.to_csv(f'{csv_loc}/{pol}_percentage.csv')\n",
    "    df_conc.to_csv(f'{csv_loc}/{pol}_concentration.csv')"
   ]
  },
  {
   "cell_type": "code",
   "execution_count": 2,
   "metadata": {},
   "outputs": [],
   "source": [
    "csv_loc = Path(DATA_DIR_PLOTS).joinpath('notebooks/baseline_deviation/temporal/csv')\n",
    "\n",
    "pollutant_difference_percent_pol_tp = {}\n",
    "\n",
    "for pol in ['PM25', 'PM10']:  # 'SO2','CO', 'O3', 'NO', 'NO2',\n",
    "    \n",
    "    df_perc = pd.read_csv(f'{csv_loc}/{pol}_percentage.csv', header=1).set_index('hours_from_fe')\n",
    "    \n",
    "    pollutant_difference_percent_pol_tp[pol] = df_perc.copy()"
   ]
  },
  {
   "cell_type": "code",
   "execution_count": null,
   "metadata": {},
   "outputs": [],
   "source": [
    "for pol in pollutant_difference_percent_pol_sp:\n",
    "    \n",
    "    if pollutant_difference_percent_pol_sp[pol] is None:\n",
    "        continue\n",
    "    \n",
    "    df_perc = pollutant_difference_percent_pol_sp[pol].transpose()\n",
    "    df_conc = pollutant_difference_pol_sp[pol].transpose()\n",
    "    \n",
    "    csv_loc = Path(DATA_DIR_PLOTS).joinpath('notebooks/baseline_deviation/spatial/csv')\n",
    "    \n",
    "    if not os.path.exists(csv_loc):\n",
    "            os.makedirs(csv_loc)\n",
    "            \n",
    "    df_perc.to_csv(f'{csv_loc}/{pol}_percentage.csv')\n",
    "    df_conc.to_csv(f'{csv_loc}/{pol}_concentration.csv')"
   ]
  },
  {
   "cell_type": "code",
   "execution_count": 3,
   "metadata": {},
   "outputs": [],
   "source": [
    "csv_loc = Path(DATA_DIR_PLOTS).joinpath('notebooks/baseline_deviation/spatial/csv')\n",
    "\n",
    "pollutant_difference_percent_pol_sp = {}\n",
    "\n",
    "for pol in ['PM25', 'PM10']:  # 'SO2','CO', 'O3', 'NO', 'NO2',\n",
    "     \n",
    "    df_perc = pd.read_csv(f'{csv_loc}/{pol}_percentage.csv', header=1).set_index('hours_from_fe')\n",
    "    \n",
    "    pollutant_difference_percent_pol_sp[pol] = df_perc.copy()"
   ]
  },
  {
   "cell_type": "code",
   "execution_count": 12,
   "metadata": {},
   "outputs": [
    {
     "data": {
      "application/vnd.plotly.v1+json": {
       "config": {
        "plotlyServerURL": "https://plot.ly"
       },
       "data": [
        {
         "line": {
          "color": "#5e60ce"
         },
         "mode": "lines",
         "name": "Median Spatial Baseline",
         "type": "scatter",
         "x": [
          -120,
          -119,
          -118,
          -117,
          -116,
          -115,
          -114,
          -113,
          -112,
          -111,
          -110,
          -109,
          -108,
          -107,
          -106,
          -105,
          -104,
          -103,
          -102,
          -101,
          -100,
          -99,
          -98,
          -97,
          -96,
          -95,
          -94,
          -93,
          -92,
          -91,
          -90,
          -89,
          -88,
          -87,
          -86,
          -85,
          -84,
          -83,
          -82,
          -81,
          -80,
          -79,
          -78,
          -77,
          -76,
          -75,
          -74,
          -73,
          -72,
          -71,
          -70,
          -69,
          -68,
          -67,
          -66,
          -65,
          -64,
          -63,
          -62,
          -61,
          -60,
          -59,
          -58,
          -57,
          -56,
          -55,
          -54,
          -53,
          -52,
          -51,
          -50,
          -49,
          -48,
          -47,
          -46,
          -45,
          -44,
          -43,
          -42,
          -41,
          -40,
          -39,
          -38,
          -37,
          -36,
          -35,
          -34,
          -33,
          -32,
          -31,
          -30,
          -29,
          -28,
          -27,
          -26,
          -25,
          -24,
          -23,
          -22,
          -21,
          -20,
          -19,
          -18,
          -17,
          -16,
          -15,
          -14,
          -13,
          -12,
          -11,
          -10,
          -9,
          -8,
          -7,
          -6,
          -5,
          -4,
          -3,
          -2,
          -1,
          0,
          1,
          2,
          3,
          4,
          5,
          6,
          7,
          8,
          9,
          10,
          11,
          12,
          13,
          14,
          15,
          16,
          17,
          18,
          19,
          20,
          21,
          22,
          23,
          24,
          25,
          26,
          27,
          28,
          29,
          30,
          31,
          32,
          33,
          34,
          35,
          36,
          37,
          38,
          39,
          40,
          41,
          42,
          43,
          44,
          45,
          46,
          47,
          48,
          49,
          50,
          51,
          52,
          53,
          54,
          55,
          56,
          57,
          58,
          59,
          60,
          61,
          62,
          63,
          64,
          65,
          66,
          67,
          68,
          69,
          70,
          71,
          72,
          73,
          74,
          75,
          76,
          77,
          78,
          79,
          80,
          81,
          82,
          83,
          84,
          85,
          86,
          87,
          88,
          89,
          90,
          91,
          92,
          93,
          94,
          95,
          96,
          97,
          98,
          99,
          100,
          101,
          102,
          103,
          104,
          105,
          106,
          107,
          108,
          109,
          110,
          111,
          112,
          113,
          114,
          115,
          116,
          117,
          118,
          119,
          120
         ],
         "y": [
          -0.1857579447595014,
          0.7634996176586695,
          0.0858769668206305,
          -0.1693883123359607,
          0.1587891713273226,
          0.1806378970904409,
          -1.3390481199559656,
          -0.6049585529225299,
          -1.431712708002009,
          1.5821354109272656,
          0.715080325393247,
          -3.56194914254534,
          -4.6535540348525695,
          -3.394709824046027,
          -6.627670338800895,
          -4.367873085327501,
          -2.153219490364555,
          -2.20552540638409,
          -1.3359289462745785,
          -0.769947437768681,
          -2.665951912497677,
          -3.26791118846258,
          -2.1202349046319235,
          -3.0877386147327823,
          -2.4090422882806606,
          -1.4824270750169122,
          -1.05914127243657,
          -1.913561792898544,
          -2.071823599881084,
          -2.628837074008028,
          -3.420938303248444,
          -3.806554685096697,
          -4.101109257826785,
          -2.57052650646834,
          -0.5760921608575775,
          -2.314037083040932,
          -0.2162423214295161,
          -0.5584615866406906,
          1.8522289972503487,
          0.9538063493822246,
          0.8712498379444877,
          1.040425467135142,
          2.0610650175277856,
          0.4146632573463371,
          -0.0197526550187676,
          1.110663732513384,
          -0.3889700947898866,
          0.3162736625325513,
          -2.0902724075266166,
          -1.9310956198548943,
          -0.6236950674064268,
          0.2511881499755786,
          -2.116142027158918,
          -2.631350862473192,
          -2.839304139969867,
          -2.273552593843209,
          -0.3467993871866137,
          0.2520312499940225,
          -1.7027046850498606,
          -0.0227868512730156,
          1.3814149489357996,
          -1.0122676921286988,
          -0.213473778121398,
          0.4779355431368204,
          -0.2748421891454411,
          0.4142455389893662,
          1.1129594438780366,
          1.41553235116747,
          2.8780807523980823,
          1.464922922361955,
          1.945677305210891,
          -0.0463939098911181,
          -0.4064937535741109,
          -0.2144272965867943,
          0.0075080065477406,
          -1.5202957996811373,
          -0.6407137898504223,
          -1.062240281981186,
          0.0525823170807626,
          1.3924724409141165,
          -0.4266537043493112,
          0.8819061364344849,
          1.0175242929336914,
          1.32132315777731,
          -0.4582478308277737,
          -1.2351935992593766,
          -1.3341439923139853,
          -1.4162144735164306,
          1.1303521940183805,
          0.2598993443658992,
          1.5845892139856987,
          1.8067373967974645,
          0.797745899368163,
          2.162883344805966,
          2.2690425789726465,
          0.759730969208583,
          1.054522011040282,
          2.7746162791368656,
          2.16347729488151,
          2.1038212993026217,
          1.6838960404168102,
          -2.4280725561924843,
          -0.6530920488763248,
          0.2642431545688106,
          0.6088354869451029,
          1.5025677230743106,
          0.23540908041495,
          0.0718900466060379,
          -0.1547346281404626,
          -2.100463393412866,
          2.5188970526980325,
          2.509597555261145,
          2.930303618713181,
          0.965143660357759,
          0.1478911315228259,
          1.2585767454037944,
          1.7625221960272386,
          1.7234179909188407,
          1.1110108768475957,
          0.0392024431337789,
          3.098091922449764,
          3.7000434152193895,
          5.350415401547193,
          5.470611317473684,
          3.4818522935236684,
          3.071979253017254,
          0.9643568241327838,
          2.8312089918896,
          1.043239473600055,
          1.38339923010371,
          1.8818206678232752,
          1.7348725625150552,
          1.9394994717236715,
          -0.5707312041230206,
          -1.0114930886901186,
          0.9715797702663176,
          2.52838928104282,
          -1.0979515145492114,
          -1.4576736949696525,
          -3.2107374385400123,
          -3.2228392842557407,
          -2.677483014254445,
          -1.1748649490902374,
          -1.5861329772643429,
          -1.010988576262728,
          1.159163500455973,
          4.202642085977759,
          4.5491580032265055,
          5.898284829741618,
          6.247891072145984,
          2.028818994777226,
          -1.4889503962734696,
          -2.336942302890665,
          -0.97451009546351,
          1.2172292277415675,
          1.765685567980135,
          -1.0292646194468569,
          -0.8886739700692314,
          -3.438920707886617,
          -2.3449361663971824,
          -0.702404198059492,
          -2.1437684742543817,
          -1.863065070832304,
          -1.5832038686570349,
          -2.241597136429652,
          -0.452034955801861,
          2.0227873596837758,
          2.916705510294016,
          2.9048997030780344,
          2.2861922779719324,
          -0.1482531898448047,
          0.3364881523830743,
          -0.0834638810010446,
          1.2153852362560835,
          1.372721705753066,
          3.6280102809013393,
          0.7888435866530097,
          -0.997870733888162,
          0.6510755406141655,
          -0.8004165663803242,
          -3.378188877738908,
          -4.82920020985852,
          -2.272459267653504,
          -1.089014579917713,
          1.622272375905931,
          -0.551445418046359,
          0.32768500210274,
          -0.4904121178842424,
          -2.040106219156379,
          0.3410890517493881,
          0.0194276408524984,
          -2.931936330053353,
          -1.48381354303605,
          0.6348441739879362,
          1.7077467022166726,
          1.4317656326567008,
          2.393284352564517,
          2.4467751858281206,
          5.052601903252585,
          3.114069676612119,
          0.6625265338163988,
          1.4828339712960936,
          -1.0327717306573003,
          -1.8569933555961595,
          -0.1743147083861473,
          0.6984703087948185,
          -2.0629238531473693,
          -1.816983786991022,
          1.5052810475400635,
          0.4228145982205777,
          -0.3696183118563678,
          -0.5951283077857306,
          0.302316840703809,
          -1.630405764213294,
          0.1024064848303307,
          -1.430894613200695,
          0.2699326520747336,
          1.7647397673152376,
          -0.1550086907421533,
          -1.0966410843353147,
          0.6681486511959545,
          1.5215412968446973,
          -1.1790149946044104,
          -0.7737022971225804,
          -3.221536561120264,
          -0.1381750818726823,
          2.4130755023723527,
          3.382900156407853,
          1.0272289804902135,
          3.1105010813237355,
          1.5833813342305936,
          0.5996050523255914,
          -1.0062204827669174,
          -1.1164582744935148,
          -2.545727162696265,
          -1.0320721355927431,
          -3.4243210735906526,
          0.7797067447991912,
          1.9472122942705727,
          0.7655655282046592,
          3.277212084795922
         ]
        },
        {
         "line": {
          "color": "#38b000"
         },
         "mode": "lines",
         "name": "Median Temporal Baseline",
         "type": "scatter",
         "x": [
          -120,
          -119,
          -118,
          -117,
          -116,
          -115,
          -114,
          -113,
          -112,
          -111,
          -110,
          -109,
          -108,
          -107,
          -106,
          -105,
          -104,
          -103,
          -102,
          -101,
          -100,
          -99,
          -98,
          -97,
          -96,
          -95,
          -94,
          -93,
          -92,
          -91,
          -90,
          -89,
          -88,
          -87,
          -86,
          -85,
          -84,
          -83,
          -82,
          -81,
          -80,
          -79,
          -78,
          -77,
          -76,
          -75,
          -74,
          -73,
          -72,
          -71,
          -70,
          -69,
          -68,
          -67,
          -66,
          -65,
          -64,
          -63,
          -62,
          -61,
          -60,
          -59,
          -58,
          -57,
          -56,
          -55,
          -54,
          -53,
          -52,
          -51,
          -50,
          -49,
          -48,
          -47,
          -46,
          -45,
          -44,
          -43,
          -42,
          -41,
          -40,
          -39,
          -38,
          -37,
          -36,
          -35,
          -34,
          -33,
          -32,
          -31,
          -30,
          -29,
          -28,
          -27,
          -26,
          -25,
          -24,
          -23,
          -22,
          -21,
          -20,
          -19,
          -18,
          -17,
          -16,
          -15,
          -14,
          -13,
          -12,
          -11,
          -10,
          -9,
          -8,
          -7,
          -6,
          -5,
          -4,
          -3,
          -2,
          -1,
          0,
          1,
          2,
          3,
          4,
          5,
          6,
          7,
          8,
          9,
          10,
          11,
          12,
          13,
          14,
          15,
          16,
          17,
          18,
          19,
          20,
          21,
          22,
          23,
          24,
          25,
          26,
          27,
          28,
          29,
          30,
          31,
          32,
          33,
          34,
          35,
          36,
          37,
          38,
          39,
          40,
          41,
          42,
          43,
          44,
          45,
          46,
          47,
          48,
          49,
          50,
          51,
          52,
          53,
          54,
          55,
          56,
          57,
          58,
          59,
          60,
          61,
          62,
          63,
          64,
          65,
          66,
          67,
          68,
          69,
          70,
          71,
          72,
          73,
          74,
          75,
          76,
          77,
          78,
          79,
          80,
          81,
          82,
          83,
          84,
          85,
          86,
          87,
          88,
          89,
          90,
          91,
          92,
          93,
          94,
          95,
          96,
          97,
          98,
          99,
          100,
          101,
          102,
          103,
          104,
          105,
          106,
          107,
          108,
          109,
          110,
          111,
          112,
          113,
          114,
          115,
          116,
          117,
          118,
          119,
          120
         ],
         "y": [
          28.952155276547266,
          31.91793751642212,
          33.13381473483115,
          33.201396083212884,
          36.19644238592643,
          40.9550603536013,
          36.977532307003635,
          43.84137197069758,
          37.91903504674872,
          52.291270088539065,
          52.58865612652339,
          50.53695827932464,
          46.95201140082096,
          32.90124227916981,
          33.08427419977984,
          39.678772462549496,
          39.3845233679982,
          39.114800360477,
          37.10745340286834,
          36.169523053660946,
          35.521943730399215,
          38.1396300760202,
          37.474927845863284,
          29.147088692145203,
          32.175761098891066,
          29.53994033925662,
          30.577609507694703,
          26.253877683380523,
          21.263651044416065,
          23.553790012011355,
          33.326826183137214,
          23.489207235760112,
          24.41304522592973,
          32.84342942031874,
          45.43150270841805,
          54.15712035489169,
          47.1573115972041,
          45.24968004591096,
          47.92726526879832,
          48.0404856347256,
          31.349245777713687,
          39.362059526164686,
          41.11472911410856,
          38.92755793158476,
          50.22922504808095,
          58.47837061217456,
          49.73665972660156,
          53.04380002535404,
          45.87906111086289,
          42.05410469480534,
          46.02300947404035,
          40.60862049435056,
          46.426069394481615,
          66.67390524184003,
          68.96092597718994,
          63.051211487914195,
          57.7353882992345,
          65.9529070537136,
          63.10424697463011,
          56.99156759200076,
          61.85140516443452,
          59.51587569242595,
          59.93966406428757,
          58.7557551515454,
          53.84255890515046,
          64.59729571275054,
          61.868957544589605,
          70.33141839352669,
          59.03386156949541,
          59.292957739559306,
          71.14200021880177,
          61.96319572995566,
          55.204952435171855,
          63.9247692623159,
          64.64205095917325,
          61.30149316107101,
          62.6083132670293,
          58.749840616848836,
          60.06579641170628,
          51.9152471403046,
          52.14754803240444,
          56.03763394786507,
          57.156490863490134,
          60.80941217321121,
          68.52413279686479,
          61.90019549077036,
          60.535877963301026,
          52.06112489981865,
          63.64237344834529,
          60.22260911489332,
          71.46319164192724,
          75.19927853217806,
          79.53022315746057,
          84.5467170886605,
          77.04987636327476,
          68.21325883020523,
          60.32162239970658,
          53.03182145264144,
          45.699762932321185,
          44.62547446556885,
          44.185252262885086,
          44.05347790125708,
          45.44463778455689,
          47.94878427961791,
          40.17581640948248,
          50.984454762555714,
          54.58580192421418,
          51.16332411540012,
          53.31635104963125,
          61.4924953017684,
          66.94447028585617,
          67.55397900770362,
          64.06644680012883,
          61.30060783231306,
          69.14875786147189,
          64.84761211027146,
          71.91328744347442,
          71.04885591204248,
          64.0226669522158,
          62.431689088358866,
          54.18301792167077,
          61.414404973305984,
          65.65104265311456,
          57.8949994339965,
          62.15151104859602,
          66.80866765029126,
          72.31022233034375,
          66.02256327605609,
          61.90490980503978,
          66.6697585957333,
          74.84165196313357,
          71.38087511448879,
          72.464267976551,
          59.18172180250804,
          61.08478823074823,
          71.74012262013447,
          66.39123486064454,
          67.9791772795986,
          54.777580150583006,
          60.42611556590883,
          57.68412676570123,
          68.75883382253272,
          77.19292150364672,
          76.31869515701983,
          67.57165857097564,
          69.98604768294982,
          80.22493791653284,
          84.2952339662695,
          68.19529578007817,
          64.44814253259156,
          55.1934477477118,
          51.761435778230336,
          53.80210596759565,
          47.03460101915071,
          47.49467709797747,
          55.37994415273915,
          47.67408815655297,
          49.768046346619585,
          40.61542467887176,
          39.639933998325326,
          34.95236069781339,
          29.188482983348894,
          30.23732620081722,
          31.54784903670145,
          44.20040167841867,
          39.48947709548353,
          46.015940404708545,
          39.244809632454306,
          35.577180920367084,
          34.3434529928368,
          39.15854539738757,
          27.318660735010745,
          25.560054564869496,
          26.759369589417958,
          25.391190224541216,
          15.604192765901026,
          17.15278934172175,
          8.582083207395986,
          6.97355577439921,
          4.421205482542523,
          4.172645023195565,
          -2.5702334279679993,
          3.6536353955520573,
          2.8104503687868987,
          5.825082713714213,
          4.106709348755155,
          5.04727713966342,
          2.5620937626232743,
          2.440987355783264,
          -2.986173942964232,
          -7.562764518260889,
          -1.323955152369871,
          0.259457972078242,
          1.9547938984497248,
          7.332820400526385,
          8.476034529662577,
          12.071092348185918,
          12.168594499318486,
          3.180138676071842,
          3.0103726357444405,
          1.6306881219937952,
          3.86235402104127,
          -2.050066845964144,
          -4.293414564744102,
          -3.805163556773267,
          -1.1125982382807986,
          -3.3788688206632775,
          2.742653752028168,
          -0.5697414544351354,
          2.1290964830573356,
          -2.362678028491094,
          8.602703385785581,
          11.1109938346741,
          10.348998493684391,
          6.724932038564646,
          5.540698657296705,
          -6.1467225635720935,
          -4.254581798624274,
          -4.291976313293466,
          -4.56072975062185,
          -6.561986333860026,
          -0.4872391204394311,
          -3.740439440480725,
          -5.226305467682995,
          -7.273622104595001,
          -3.7238812152187886,
          -8.170923348931348,
          -4.8421845174691285,
          -5.373222079525103,
          -2.011381380310995,
          -7.4063111365492045,
          -4.484048291732135,
          0.7388514044671279,
          -5.242680953192053,
          1.342131505817734,
          -1.9248856943059056,
          1.2370939794337232,
          -1.4286362266519637,
          0.7711119141035061,
          -4.043853045475487,
          -7.925570594023262
         ]
        }
       ],
       "layout": {
        "legend": {
         "font": {
          "size": 14
         },
         "title": {
          "text": "Legend"
         }
        },
        "shapes": [
         {
          "line": {
           "color": "orange",
           "width": 4
          },
          "type": "line",
          "x0": 0,
          "x1": 0,
          "xref": "x",
          "y0": 0,
          "y1": 1,
          "yref": "y domain"
         }
        ],
        "template": {
         "data": {
          "bar": [
           {
            "error_x": {
             "color": "rgb(51,51,51)"
            },
            "error_y": {
             "color": "rgb(51,51,51)"
            },
            "marker": {
             "line": {
              "color": "rgb(237,237,237)",
              "width": 0.5
             },
             "pattern": {
              "fillmode": "overlay",
              "size": 10,
              "solidity": 0.2
             }
            },
            "type": "bar"
           }
          ],
          "barpolar": [
           {
            "marker": {
             "line": {
              "color": "rgb(237,237,237)",
              "width": 0.5
             },
             "pattern": {
              "fillmode": "overlay",
              "size": 10,
              "solidity": 0.2
             }
            },
            "type": "barpolar"
           }
          ],
          "carpet": [
           {
            "aaxis": {
             "endlinecolor": "rgb(51,51,51)",
             "gridcolor": "white",
             "linecolor": "white",
             "minorgridcolor": "white",
             "startlinecolor": "rgb(51,51,51)"
            },
            "baxis": {
             "endlinecolor": "rgb(51,51,51)",
             "gridcolor": "white",
             "linecolor": "white",
             "minorgridcolor": "white",
             "startlinecolor": "rgb(51,51,51)"
            },
            "type": "carpet"
           }
          ],
          "choropleth": [
           {
            "colorbar": {
             "outlinewidth": 0,
             "tickcolor": "rgb(237,237,237)",
             "ticklen": 6,
             "ticks": "inside"
            },
            "type": "choropleth"
           }
          ],
          "contour": [
           {
            "colorbar": {
             "outlinewidth": 0,
             "tickcolor": "rgb(237,237,237)",
             "ticklen": 6,
             "ticks": "inside"
            },
            "colorscale": [
             [
              0,
              "rgb(20,44,66)"
             ],
             [
              1,
              "rgb(90,179,244)"
             ]
            ],
            "type": "contour"
           }
          ],
          "contourcarpet": [
           {
            "colorbar": {
             "outlinewidth": 0,
             "tickcolor": "rgb(237,237,237)",
             "ticklen": 6,
             "ticks": "inside"
            },
            "type": "contourcarpet"
           }
          ],
          "heatmap": [
           {
            "colorbar": {
             "outlinewidth": 0,
             "tickcolor": "rgb(237,237,237)",
             "ticklen": 6,
             "ticks": "inside"
            },
            "colorscale": [
             [
              0,
              "rgb(20,44,66)"
             ],
             [
              1,
              "rgb(90,179,244)"
             ]
            ],
            "type": "heatmap"
           }
          ],
          "heatmapgl": [
           {
            "colorbar": {
             "outlinewidth": 0,
             "tickcolor": "rgb(237,237,237)",
             "ticklen": 6,
             "ticks": "inside"
            },
            "colorscale": [
             [
              0,
              "rgb(20,44,66)"
             ],
             [
              1,
              "rgb(90,179,244)"
             ]
            ],
            "type": "heatmapgl"
           }
          ],
          "histogram": [
           {
            "marker": {
             "pattern": {
              "fillmode": "overlay",
              "size": 10,
              "solidity": 0.2
             }
            },
            "type": "histogram"
           }
          ],
          "histogram2d": [
           {
            "colorbar": {
             "outlinewidth": 0,
             "tickcolor": "rgb(237,237,237)",
             "ticklen": 6,
             "ticks": "inside"
            },
            "colorscale": [
             [
              0,
              "rgb(20,44,66)"
             ],
             [
              1,
              "rgb(90,179,244)"
             ]
            ],
            "type": "histogram2d"
           }
          ],
          "histogram2dcontour": [
           {
            "colorbar": {
             "outlinewidth": 0,
             "tickcolor": "rgb(237,237,237)",
             "ticklen": 6,
             "ticks": "inside"
            },
            "colorscale": [
             [
              0,
              "rgb(20,44,66)"
             ],
             [
              1,
              "rgb(90,179,244)"
             ]
            ],
            "type": "histogram2dcontour"
           }
          ],
          "mesh3d": [
           {
            "colorbar": {
             "outlinewidth": 0,
             "tickcolor": "rgb(237,237,237)",
             "ticklen": 6,
             "ticks": "inside"
            },
            "type": "mesh3d"
           }
          ],
          "parcoords": [
           {
            "line": {
             "colorbar": {
              "outlinewidth": 0,
              "tickcolor": "rgb(237,237,237)",
              "ticklen": 6,
              "ticks": "inside"
             }
            },
            "type": "parcoords"
           }
          ],
          "pie": [
           {
            "automargin": true,
            "type": "pie"
           }
          ],
          "scatter": [
           {
            "marker": {
             "colorbar": {
              "outlinewidth": 0,
              "tickcolor": "rgb(237,237,237)",
              "ticklen": 6,
              "ticks": "inside"
             }
            },
            "type": "scatter"
           }
          ],
          "scatter3d": [
           {
            "line": {
             "colorbar": {
              "outlinewidth": 0,
              "tickcolor": "rgb(237,237,237)",
              "ticklen": 6,
              "ticks": "inside"
             }
            },
            "marker": {
             "colorbar": {
              "outlinewidth": 0,
              "tickcolor": "rgb(237,237,237)",
              "ticklen": 6,
              "ticks": "inside"
             }
            },
            "type": "scatter3d"
           }
          ],
          "scattercarpet": [
           {
            "marker": {
             "colorbar": {
              "outlinewidth": 0,
              "tickcolor": "rgb(237,237,237)",
              "ticklen": 6,
              "ticks": "inside"
             }
            },
            "type": "scattercarpet"
           }
          ],
          "scattergeo": [
           {
            "marker": {
             "colorbar": {
              "outlinewidth": 0,
              "tickcolor": "rgb(237,237,237)",
              "ticklen": 6,
              "ticks": "inside"
             }
            },
            "type": "scattergeo"
           }
          ],
          "scattergl": [
           {
            "marker": {
             "colorbar": {
              "outlinewidth": 0,
              "tickcolor": "rgb(237,237,237)",
              "ticklen": 6,
              "ticks": "inside"
             }
            },
            "type": "scattergl"
           }
          ],
          "scattermapbox": [
           {
            "marker": {
             "colorbar": {
              "outlinewidth": 0,
              "tickcolor": "rgb(237,237,237)",
              "ticklen": 6,
              "ticks": "inside"
             }
            },
            "type": "scattermapbox"
           }
          ],
          "scatterpolar": [
           {
            "marker": {
             "colorbar": {
              "outlinewidth": 0,
              "tickcolor": "rgb(237,237,237)",
              "ticklen": 6,
              "ticks": "inside"
             }
            },
            "type": "scatterpolar"
           }
          ],
          "scatterpolargl": [
           {
            "marker": {
             "colorbar": {
              "outlinewidth": 0,
              "tickcolor": "rgb(237,237,237)",
              "ticklen": 6,
              "ticks": "inside"
             }
            },
            "type": "scatterpolargl"
           }
          ],
          "scatterternary": [
           {
            "marker": {
             "colorbar": {
              "outlinewidth": 0,
              "tickcolor": "rgb(237,237,237)",
              "ticklen": 6,
              "ticks": "inside"
             }
            },
            "type": "scatterternary"
           }
          ],
          "surface": [
           {
            "colorbar": {
             "outlinewidth": 0,
             "tickcolor": "rgb(237,237,237)",
             "ticklen": 6,
             "ticks": "inside"
            },
            "colorscale": [
             [
              0,
              "rgb(20,44,66)"
             ],
             [
              1,
              "rgb(90,179,244)"
             ]
            ],
            "type": "surface"
           }
          ],
          "table": [
           {
            "cells": {
             "fill": {
              "color": "rgb(237,237,237)"
             },
             "line": {
              "color": "white"
             }
            },
            "header": {
             "fill": {
              "color": "rgb(217,217,217)"
             },
             "line": {
              "color": "white"
             }
            },
            "type": "table"
           }
          ]
         },
         "layout": {
          "annotationdefaults": {
           "arrowhead": 0,
           "arrowwidth": 1
          },
          "autotypenumbers": "strict",
          "coloraxis": {
           "colorbar": {
            "outlinewidth": 0,
            "tickcolor": "rgb(237,237,237)",
            "ticklen": 6,
            "ticks": "inside"
           }
          },
          "colorscale": {
           "sequential": [
            [
             0,
             "rgb(20,44,66)"
            ],
            [
             1,
             "rgb(90,179,244)"
            ]
           ],
           "sequentialminus": [
            [
             0,
             "rgb(20,44,66)"
            ],
            [
             1,
             "rgb(90,179,244)"
            ]
           ]
          },
          "colorway": [
           "#F8766D",
           "#A3A500",
           "#00BF7D",
           "#00B0F6",
           "#E76BF3"
          ],
          "font": {
           "color": "rgb(51,51,51)"
          },
          "geo": {
           "bgcolor": "white",
           "lakecolor": "white",
           "landcolor": "rgb(237,237,237)",
           "showlakes": true,
           "showland": true,
           "subunitcolor": "white"
          },
          "hoverlabel": {
           "align": "left"
          },
          "hovermode": "closest",
          "paper_bgcolor": "white",
          "plot_bgcolor": "rgb(237,237,237)",
          "polar": {
           "angularaxis": {
            "gridcolor": "white",
            "linecolor": "white",
            "showgrid": true,
            "tickcolor": "rgb(51,51,51)",
            "ticks": "outside"
           },
           "bgcolor": "rgb(237,237,237)",
           "radialaxis": {
            "gridcolor": "white",
            "linecolor": "white",
            "showgrid": true,
            "tickcolor": "rgb(51,51,51)",
            "ticks": "outside"
           }
          },
          "scene": {
           "xaxis": {
            "backgroundcolor": "rgb(237,237,237)",
            "gridcolor": "white",
            "gridwidth": 2,
            "linecolor": "white",
            "showbackground": true,
            "showgrid": true,
            "tickcolor": "rgb(51,51,51)",
            "ticks": "outside",
            "zerolinecolor": "white"
           },
           "yaxis": {
            "backgroundcolor": "rgb(237,237,237)",
            "gridcolor": "white",
            "gridwidth": 2,
            "linecolor": "white",
            "showbackground": true,
            "showgrid": true,
            "tickcolor": "rgb(51,51,51)",
            "ticks": "outside",
            "zerolinecolor": "white"
           },
           "zaxis": {
            "backgroundcolor": "rgb(237,237,237)",
            "gridcolor": "white",
            "gridwidth": 2,
            "linecolor": "white",
            "showbackground": true,
            "showgrid": true,
            "tickcolor": "rgb(51,51,51)",
            "ticks": "outside",
            "zerolinecolor": "white"
           }
          },
          "shapedefaults": {
           "fillcolor": "black",
           "line": {
            "width": 0
           },
           "opacity": 0.3
          },
          "ternary": {
           "aaxis": {
            "gridcolor": "white",
            "linecolor": "white",
            "showgrid": true,
            "tickcolor": "rgb(51,51,51)",
            "ticks": "outside"
           },
           "baxis": {
            "gridcolor": "white",
            "linecolor": "white",
            "showgrid": true,
            "tickcolor": "rgb(51,51,51)",
            "ticks": "outside"
           },
           "bgcolor": "rgb(237,237,237)",
           "caxis": {
            "gridcolor": "white",
            "linecolor": "white",
            "showgrid": true,
            "tickcolor": "rgb(51,51,51)",
            "ticks": "outside"
           }
          },
          "xaxis": {
           "automargin": true,
           "gridcolor": "white",
           "linecolor": "white",
           "showgrid": true,
           "tickcolor": "rgb(51,51,51)",
           "ticks": "outside",
           "title": {
            "standoff": 15
           },
           "zerolinecolor": "white"
          },
          "yaxis": {
           "automargin": true,
           "gridcolor": "white",
           "linecolor": "white",
           "showgrid": true,
           "tickcolor": "rgb(51,51,51)",
           "ticks": "outside",
           "title": {
            "standoff": 15
           },
           "zerolinecolor": "white"
          }
         }
        },
        "title": {
         "text": "Fine Particulate Matter (PM2.5) deviation from baseline (in %)"
        },
        "xaxis": {
         "dtick": 24,
         "tick0": 2,
         "tickmode": "array",
         "ticktext": [
          "-5 Days Before",
          "-4 Days Before",
          "-3 Days Before",
          "-2 Days Before",
          "-1 Days Before",
          "Fire Event",
          "1 Days After",
          "2 Days After",
          "3 Days After",
          "4 Days After"
         ],
         "tickvals": [
          "-120",
          "-96",
          "-72",
          "-48",
          "-24",
          "0",
          "24",
          "48",
          "72",
          "96"
         ],
         "title": {
          "text": "Days from Fire Event"
         }
        },
        "yaxis": {
         "title": {
          "text": "Deviation from Baseline in %"
         }
        }
       }
      },
      "text/html": [
       "<div>                            <div id=\"079f6f64-0d21-4e4d-8b0c-18b68dfae5b4\" class=\"plotly-graph-div\" style=\"height:525px; width:100%;\"></div>            <script type=\"text/javascript\">                require([\"plotly\"], function(Plotly) {                    window.PLOTLYENV=window.PLOTLYENV || {};                                    if (document.getElementById(\"079f6f64-0d21-4e4d-8b0c-18b68dfae5b4\")) {                    Plotly.newPlot(                        \"079f6f64-0d21-4e4d-8b0c-18b68dfae5b4\",                        [{\"line\":{\"color\":\"#5e60ce\"},\"mode\":\"lines\",\"name\":\"Median Spatial Baseline\",\"type\":\"scatter\",\"x\":[-120,-119,-118,-117,-116,-115,-114,-113,-112,-111,-110,-109,-108,-107,-106,-105,-104,-103,-102,-101,-100,-99,-98,-97,-96,-95,-94,-93,-92,-91,-90,-89,-88,-87,-86,-85,-84,-83,-82,-81,-80,-79,-78,-77,-76,-75,-74,-73,-72,-71,-70,-69,-68,-67,-66,-65,-64,-63,-62,-61,-60,-59,-58,-57,-56,-55,-54,-53,-52,-51,-50,-49,-48,-47,-46,-45,-44,-43,-42,-41,-40,-39,-38,-37,-36,-35,-34,-33,-32,-31,-30,-29,-28,-27,-26,-25,-24,-23,-22,-21,-20,-19,-18,-17,-16,-15,-14,-13,-12,-11,-10,-9,-8,-7,-6,-5,-4,-3,-2,-1,0,1,2,3,4,5,6,7,8,9,10,11,12,13,14,15,16,17,18,19,20,21,22,23,24,25,26,27,28,29,30,31,32,33,34,35,36,37,38,39,40,41,42,43,44,45,46,47,48,49,50,51,52,53,54,55,56,57,58,59,60,61,62,63,64,65,66,67,68,69,70,71,72,73,74,75,76,77,78,79,80,81,82,83,84,85,86,87,88,89,90,91,92,93,94,95,96,97,98,99,100,101,102,103,104,105,106,107,108,109,110,111,112,113,114,115,116,117,118,119,120],\"y\":[-0.1857579447595014,0.7634996176586695,0.0858769668206305,-0.1693883123359607,0.1587891713273226,0.1806378970904409,-1.3390481199559656,-0.6049585529225299,-1.431712708002009,1.5821354109272656,0.715080325393247,-3.56194914254534,-4.6535540348525695,-3.394709824046027,-6.627670338800895,-4.367873085327501,-2.153219490364555,-2.20552540638409,-1.3359289462745785,-0.769947437768681,-2.665951912497677,-3.26791118846258,-2.1202349046319235,-3.0877386147327823,-2.4090422882806606,-1.4824270750169122,-1.05914127243657,-1.913561792898544,-2.071823599881084,-2.628837074008028,-3.420938303248444,-3.806554685096697,-4.101109257826785,-2.57052650646834,-0.5760921608575775,-2.314037083040932,-0.2162423214295161,-0.5584615866406906,1.8522289972503487,0.9538063493822246,0.8712498379444877,1.040425467135142,2.0610650175277856,0.4146632573463371,-0.0197526550187676,1.110663732513384,-0.3889700947898866,0.3162736625325513,-2.0902724075266166,-1.9310956198548943,-0.6236950674064268,0.2511881499755786,-2.116142027158918,-2.631350862473192,-2.839304139969867,-2.273552593843209,-0.3467993871866137,0.2520312499940225,-1.7027046850498606,-0.0227868512730156,1.3814149489357996,-1.0122676921286988,-0.213473778121398,0.4779355431368204,-0.2748421891454411,0.4142455389893662,1.1129594438780366,1.41553235116747,2.8780807523980823,1.464922922361955,1.945677305210891,-0.0463939098911181,-0.4064937535741109,-0.2144272965867943,0.0075080065477406,-1.5202957996811373,-0.6407137898504223,-1.062240281981186,0.0525823170807626,1.3924724409141165,-0.4266537043493112,0.8819061364344849,1.0175242929336914,1.32132315777731,-0.4582478308277737,-1.2351935992593766,-1.3341439923139853,-1.4162144735164306,1.1303521940183805,0.2598993443658992,1.5845892139856987,1.8067373967974645,0.797745899368163,2.162883344805966,2.2690425789726465,0.759730969208583,1.054522011040282,2.7746162791368656,2.16347729488151,2.1038212993026217,1.6838960404168102,-2.4280725561924843,-0.6530920488763248,0.2642431545688106,0.6088354869451029,1.5025677230743106,0.23540908041495,0.0718900466060379,-0.1547346281404626,-2.100463393412866,2.5188970526980325,2.509597555261145,2.930303618713181,0.965143660357759,0.1478911315228259,1.2585767454037944,1.7625221960272386,1.7234179909188407,1.1110108768475957,0.0392024431337789,3.098091922449764,3.7000434152193895,5.350415401547193,5.470611317473684,3.4818522935236684,3.071979253017254,0.9643568241327838,2.8312089918896,1.043239473600055,1.38339923010371,1.8818206678232752,1.7348725625150552,1.9394994717236715,-0.5707312041230206,-1.0114930886901186,0.9715797702663176,2.52838928104282,-1.0979515145492114,-1.4576736949696525,-3.2107374385400123,-3.2228392842557407,-2.677483014254445,-1.1748649490902374,-1.5861329772643429,-1.010988576262728,1.159163500455973,4.202642085977759,4.5491580032265055,5.898284829741618,6.247891072145984,2.028818994777226,-1.4889503962734696,-2.336942302890665,-0.97451009546351,1.2172292277415675,1.765685567980135,-1.0292646194468569,-0.8886739700692314,-3.438920707886617,-2.3449361663971824,-0.702404198059492,-2.1437684742543817,-1.863065070832304,-1.5832038686570349,-2.241597136429652,-0.452034955801861,2.0227873596837758,2.916705510294016,2.9048997030780344,2.2861922779719324,-0.1482531898448047,0.3364881523830743,-0.0834638810010446,1.2153852362560835,1.372721705753066,3.6280102809013393,0.7888435866530097,-0.997870733888162,0.6510755406141655,-0.8004165663803242,-3.378188877738908,-4.82920020985852,-2.272459267653504,-1.089014579917713,1.622272375905931,-0.551445418046359,0.32768500210274,-0.4904121178842424,-2.040106219156379,0.3410890517493881,0.0194276408524984,-2.931936330053353,-1.48381354303605,0.6348441739879362,1.7077467022166726,1.4317656326567008,2.393284352564517,2.4467751858281206,5.052601903252585,3.114069676612119,0.6625265338163988,1.4828339712960936,-1.0327717306573003,-1.8569933555961595,-0.1743147083861473,0.6984703087948185,-2.0629238531473693,-1.816983786991022,1.5052810475400635,0.4228145982205777,-0.3696183118563678,-0.5951283077857306,0.302316840703809,-1.630405764213294,0.1024064848303307,-1.430894613200695,0.2699326520747336,1.7647397673152376,-0.1550086907421533,-1.0966410843353147,0.6681486511959545,1.5215412968446973,-1.1790149946044104,-0.7737022971225804,-3.221536561120264,-0.1381750818726823,2.4130755023723527,3.382900156407853,1.0272289804902135,3.1105010813237355,1.5833813342305936,0.5996050523255914,-1.0062204827669174,-1.1164582744935148,-2.545727162696265,-1.0320721355927431,-3.4243210735906526,0.7797067447991912,1.9472122942705727,0.7655655282046592,3.277212084795922]},{\"line\":{\"color\":\"#38b000\"},\"mode\":\"lines\",\"name\":\"Median Temporal Baseline\",\"type\":\"scatter\",\"x\":[-120,-119,-118,-117,-116,-115,-114,-113,-112,-111,-110,-109,-108,-107,-106,-105,-104,-103,-102,-101,-100,-99,-98,-97,-96,-95,-94,-93,-92,-91,-90,-89,-88,-87,-86,-85,-84,-83,-82,-81,-80,-79,-78,-77,-76,-75,-74,-73,-72,-71,-70,-69,-68,-67,-66,-65,-64,-63,-62,-61,-60,-59,-58,-57,-56,-55,-54,-53,-52,-51,-50,-49,-48,-47,-46,-45,-44,-43,-42,-41,-40,-39,-38,-37,-36,-35,-34,-33,-32,-31,-30,-29,-28,-27,-26,-25,-24,-23,-22,-21,-20,-19,-18,-17,-16,-15,-14,-13,-12,-11,-10,-9,-8,-7,-6,-5,-4,-3,-2,-1,0,1,2,3,4,5,6,7,8,9,10,11,12,13,14,15,16,17,18,19,20,21,22,23,24,25,26,27,28,29,30,31,32,33,34,35,36,37,38,39,40,41,42,43,44,45,46,47,48,49,50,51,52,53,54,55,56,57,58,59,60,61,62,63,64,65,66,67,68,69,70,71,72,73,74,75,76,77,78,79,80,81,82,83,84,85,86,87,88,89,90,91,92,93,94,95,96,97,98,99,100,101,102,103,104,105,106,107,108,109,110,111,112,113,114,115,116,117,118,119,120],\"y\":[28.952155276547266,31.91793751642212,33.13381473483115,33.201396083212884,36.19644238592643,40.9550603536013,36.977532307003635,43.84137197069758,37.91903504674872,52.291270088539065,52.58865612652339,50.53695827932464,46.95201140082096,32.90124227916981,33.08427419977984,39.678772462549496,39.3845233679982,39.114800360477,37.10745340286834,36.169523053660946,35.521943730399215,38.1396300760202,37.474927845863284,29.147088692145203,32.175761098891066,29.53994033925662,30.577609507694703,26.253877683380523,21.263651044416065,23.553790012011355,33.326826183137214,23.489207235760112,24.41304522592973,32.84342942031874,45.43150270841805,54.15712035489169,47.1573115972041,45.24968004591096,47.92726526879832,48.0404856347256,31.349245777713687,39.362059526164686,41.11472911410856,38.92755793158476,50.22922504808095,58.47837061217456,49.73665972660156,53.04380002535404,45.87906111086289,42.05410469480534,46.02300947404035,40.60862049435056,46.426069394481615,66.67390524184003,68.96092597718994,63.051211487914195,57.7353882992345,65.9529070537136,63.10424697463011,56.99156759200076,61.85140516443452,59.51587569242595,59.93966406428757,58.7557551515454,53.84255890515046,64.59729571275054,61.868957544589605,70.33141839352669,59.03386156949541,59.292957739559306,71.14200021880177,61.96319572995566,55.204952435171855,63.9247692623159,64.64205095917325,61.30149316107101,62.6083132670293,58.749840616848836,60.06579641170628,51.9152471403046,52.14754803240444,56.03763394786507,57.156490863490134,60.80941217321121,68.52413279686479,61.90019549077036,60.535877963301026,52.06112489981865,63.64237344834529,60.22260911489332,71.46319164192724,75.19927853217806,79.53022315746057,84.5467170886605,77.04987636327476,68.21325883020523,60.32162239970658,53.03182145264144,45.699762932321185,44.62547446556885,44.185252262885086,44.05347790125708,45.44463778455689,47.94878427961791,40.17581640948248,50.984454762555714,54.58580192421418,51.16332411540012,53.31635104963125,61.4924953017684,66.94447028585617,67.55397900770362,64.06644680012883,61.30060783231306,69.14875786147189,64.84761211027146,71.91328744347442,71.04885591204248,64.0226669522158,62.431689088358866,54.18301792167077,61.414404973305984,65.65104265311456,57.8949994339965,62.15151104859602,66.80866765029126,72.31022233034375,66.02256327605609,61.90490980503978,66.6697585957333,74.84165196313357,71.38087511448879,72.464267976551,59.18172180250804,61.08478823074823,71.74012262013447,66.39123486064454,67.9791772795986,54.777580150583006,60.42611556590883,57.68412676570123,68.75883382253272,77.19292150364672,76.31869515701983,67.57165857097564,69.98604768294982,80.22493791653284,84.2952339662695,68.19529578007817,64.44814253259156,55.1934477477118,51.761435778230336,53.80210596759565,47.03460101915071,47.49467709797747,55.37994415273915,47.67408815655297,49.768046346619585,40.61542467887176,39.639933998325326,34.95236069781339,29.188482983348894,30.23732620081722,31.54784903670145,44.20040167841867,39.48947709548353,46.015940404708545,39.244809632454306,35.577180920367084,34.3434529928368,39.15854539738757,27.318660735010745,25.560054564869496,26.759369589417958,25.391190224541216,15.604192765901026,17.15278934172175,8.582083207395986,6.97355577439921,4.421205482542523,4.172645023195565,-2.5702334279679993,3.6536353955520573,2.8104503687868987,5.825082713714213,4.106709348755155,5.04727713966342,2.5620937626232743,2.440987355783264,-2.986173942964232,-7.562764518260889,-1.323955152369871,0.259457972078242,1.9547938984497248,7.332820400526385,8.476034529662577,12.071092348185918,12.168594499318486,3.180138676071842,3.0103726357444405,1.6306881219937952,3.86235402104127,-2.050066845964144,-4.293414564744102,-3.805163556773267,-1.1125982382807986,-3.3788688206632775,2.742653752028168,-0.5697414544351354,2.1290964830573356,-2.362678028491094,8.602703385785581,11.1109938346741,10.348998493684391,6.724932038564646,5.540698657296705,-6.1467225635720935,-4.254581798624274,-4.291976313293466,-4.56072975062185,-6.561986333860026,-0.4872391204394311,-3.740439440480725,-5.226305467682995,-7.273622104595001,-3.7238812152187886,-8.170923348931348,-4.8421845174691285,-5.373222079525103,-2.011381380310995,-7.4063111365492045,-4.484048291732135,0.7388514044671279,-5.242680953192053,1.342131505817734,-1.9248856943059056,1.2370939794337232,-1.4286362266519637,0.7711119141035061,-4.043853045475487,-7.925570594023262]}],                        {\"legend\":{\"font\":{\"size\":14},\"title\":{\"text\":\"Legend\"}},\"shapes\":[{\"line\":{\"color\":\"orange\",\"width\":4},\"type\":\"line\",\"x0\":0,\"x1\":0,\"xref\":\"x\",\"y0\":0,\"y1\":1,\"yref\":\"y domain\"}],\"template\":{\"data\":{\"bar\":[{\"error_x\":{\"color\":\"rgb(51,51,51)\"},\"error_y\":{\"color\":\"rgb(51,51,51)\"},\"marker\":{\"line\":{\"color\":\"rgb(237,237,237)\",\"width\":0.5},\"pattern\":{\"fillmode\":\"overlay\",\"size\":10,\"solidity\":0.2}},\"type\":\"bar\"}],\"barpolar\":[{\"marker\":{\"line\":{\"color\":\"rgb(237,237,237)\",\"width\":0.5},\"pattern\":{\"fillmode\":\"overlay\",\"size\":10,\"solidity\":0.2}},\"type\":\"barpolar\"}],\"carpet\":[{\"aaxis\":{\"endlinecolor\":\"rgb(51,51,51)\",\"gridcolor\":\"white\",\"linecolor\":\"white\",\"minorgridcolor\":\"white\",\"startlinecolor\":\"rgb(51,51,51)\"},\"baxis\":{\"endlinecolor\":\"rgb(51,51,51)\",\"gridcolor\":\"white\",\"linecolor\":\"white\",\"minorgridcolor\":\"white\",\"startlinecolor\":\"rgb(51,51,51)\"},\"type\":\"carpet\"}],\"choropleth\":[{\"colorbar\":{\"outlinewidth\":0,\"tickcolor\":\"rgb(237,237,237)\",\"ticklen\":6,\"ticks\":\"inside\"},\"type\":\"choropleth\"}],\"contour\":[{\"colorbar\":{\"outlinewidth\":0,\"tickcolor\":\"rgb(237,237,237)\",\"ticklen\":6,\"ticks\":\"inside\"},\"colorscale\":[[0,\"rgb(20,44,66)\"],[1,\"rgb(90,179,244)\"]],\"type\":\"contour\"}],\"contourcarpet\":[{\"colorbar\":{\"outlinewidth\":0,\"tickcolor\":\"rgb(237,237,237)\",\"ticklen\":6,\"ticks\":\"inside\"},\"type\":\"contourcarpet\"}],\"heatmap\":[{\"colorbar\":{\"outlinewidth\":0,\"tickcolor\":\"rgb(237,237,237)\",\"ticklen\":6,\"ticks\":\"inside\"},\"colorscale\":[[0,\"rgb(20,44,66)\"],[1,\"rgb(90,179,244)\"]],\"type\":\"heatmap\"}],\"heatmapgl\":[{\"colorbar\":{\"outlinewidth\":0,\"tickcolor\":\"rgb(237,237,237)\",\"ticklen\":6,\"ticks\":\"inside\"},\"colorscale\":[[0,\"rgb(20,44,66)\"],[1,\"rgb(90,179,244)\"]],\"type\":\"heatmapgl\"}],\"histogram\":[{\"marker\":{\"pattern\":{\"fillmode\":\"overlay\",\"size\":10,\"solidity\":0.2}},\"type\":\"histogram\"}],\"histogram2d\":[{\"colorbar\":{\"outlinewidth\":0,\"tickcolor\":\"rgb(237,237,237)\",\"ticklen\":6,\"ticks\":\"inside\"},\"colorscale\":[[0,\"rgb(20,44,66)\"],[1,\"rgb(90,179,244)\"]],\"type\":\"histogram2d\"}],\"histogram2dcontour\":[{\"colorbar\":{\"outlinewidth\":0,\"tickcolor\":\"rgb(237,237,237)\",\"ticklen\":6,\"ticks\":\"inside\"},\"colorscale\":[[0,\"rgb(20,44,66)\"],[1,\"rgb(90,179,244)\"]],\"type\":\"histogram2dcontour\"}],\"mesh3d\":[{\"colorbar\":{\"outlinewidth\":0,\"tickcolor\":\"rgb(237,237,237)\",\"ticklen\":6,\"ticks\":\"inside\"},\"type\":\"mesh3d\"}],\"parcoords\":[{\"line\":{\"colorbar\":{\"outlinewidth\":0,\"tickcolor\":\"rgb(237,237,237)\",\"ticklen\":6,\"ticks\":\"inside\"}},\"type\":\"parcoords\"}],\"pie\":[{\"automargin\":true,\"type\":\"pie\"}],\"scatter\":[{\"marker\":{\"colorbar\":{\"outlinewidth\":0,\"tickcolor\":\"rgb(237,237,237)\",\"ticklen\":6,\"ticks\":\"inside\"}},\"type\":\"scatter\"}],\"scatter3d\":[{\"line\":{\"colorbar\":{\"outlinewidth\":0,\"tickcolor\":\"rgb(237,237,237)\",\"ticklen\":6,\"ticks\":\"inside\"}},\"marker\":{\"colorbar\":{\"outlinewidth\":0,\"tickcolor\":\"rgb(237,237,237)\",\"ticklen\":6,\"ticks\":\"inside\"}},\"type\":\"scatter3d\"}],\"scattercarpet\":[{\"marker\":{\"colorbar\":{\"outlinewidth\":0,\"tickcolor\":\"rgb(237,237,237)\",\"ticklen\":6,\"ticks\":\"inside\"}},\"type\":\"scattercarpet\"}],\"scattergeo\":[{\"marker\":{\"colorbar\":{\"outlinewidth\":0,\"tickcolor\":\"rgb(237,237,237)\",\"ticklen\":6,\"ticks\":\"inside\"}},\"type\":\"scattergeo\"}],\"scattergl\":[{\"marker\":{\"colorbar\":{\"outlinewidth\":0,\"tickcolor\":\"rgb(237,237,237)\",\"ticklen\":6,\"ticks\":\"inside\"}},\"type\":\"scattergl\"}],\"scattermapbox\":[{\"marker\":{\"colorbar\":{\"outlinewidth\":0,\"tickcolor\":\"rgb(237,237,237)\",\"ticklen\":6,\"ticks\":\"inside\"}},\"type\":\"scattermapbox\"}],\"scatterpolar\":[{\"marker\":{\"colorbar\":{\"outlinewidth\":0,\"tickcolor\":\"rgb(237,237,237)\",\"ticklen\":6,\"ticks\":\"inside\"}},\"type\":\"scatterpolar\"}],\"scatterpolargl\":[{\"marker\":{\"colorbar\":{\"outlinewidth\":0,\"tickcolor\":\"rgb(237,237,237)\",\"ticklen\":6,\"ticks\":\"inside\"}},\"type\":\"scatterpolargl\"}],\"scatterternary\":[{\"marker\":{\"colorbar\":{\"outlinewidth\":0,\"tickcolor\":\"rgb(237,237,237)\",\"ticklen\":6,\"ticks\":\"inside\"}},\"type\":\"scatterternary\"}],\"surface\":[{\"colorbar\":{\"outlinewidth\":0,\"tickcolor\":\"rgb(237,237,237)\",\"ticklen\":6,\"ticks\":\"inside\"},\"colorscale\":[[0,\"rgb(20,44,66)\"],[1,\"rgb(90,179,244)\"]],\"type\":\"surface\"}],\"table\":[{\"cells\":{\"fill\":{\"color\":\"rgb(237,237,237)\"},\"line\":{\"color\":\"white\"}},\"header\":{\"fill\":{\"color\":\"rgb(217,217,217)\"},\"line\":{\"color\":\"white\"}},\"type\":\"table\"}]},\"layout\":{\"annotationdefaults\":{\"arrowhead\":0,\"arrowwidth\":1},\"autotypenumbers\":\"strict\",\"coloraxis\":{\"colorbar\":{\"outlinewidth\":0,\"tickcolor\":\"rgb(237,237,237)\",\"ticklen\":6,\"ticks\":\"inside\"}},\"colorscale\":{\"sequential\":[[0,\"rgb(20,44,66)\"],[1,\"rgb(90,179,244)\"]],\"sequentialminus\":[[0,\"rgb(20,44,66)\"],[1,\"rgb(90,179,244)\"]]},\"colorway\":[\"#F8766D\",\"#A3A500\",\"#00BF7D\",\"#00B0F6\",\"#E76BF3\"],\"font\":{\"color\":\"rgb(51,51,51)\"},\"geo\":{\"bgcolor\":\"white\",\"lakecolor\":\"white\",\"landcolor\":\"rgb(237,237,237)\",\"showlakes\":true,\"showland\":true,\"subunitcolor\":\"white\"},\"hoverlabel\":{\"align\":\"left\"},\"hovermode\":\"closest\",\"paper_bgcolor\":\"white\",\"plot_bgcolor\":\"rgb(237,237,237)\",\"polar\":{\"angularaxis\":{\"gridcolor\":\"white\",\"linecolor\":\"white\",\"showgrid\":true,\"tickcolor\":\"rgb(51,51,51)\",\"ticks\":\"outside\"},\"bgcolor\":\"rgb(237,237,237)\",\"radialaxis\":{\"gridcolor\":\"white\",\"linecolor\":\"white\",\"showgrid\":true,\"tickcolor\":\"rgb(51,51,51)\",\"ticks\":\"outside\"}},\"scene\":{\"xaxis\":{\"backgroundcolor\":\"rgb(237,237,237)\",\"gridcolor\":\"white\",\"gridwidth\":2,\"linecolor\":\"white\",\"showbackground\":true,\"showgrid\":true,\"tickcolor\":\"rgb(51,51,51)\",\"ticks\":\"outside\",\"zerolinecolor\":\"white\"},\"yaxis\":{\"backgroundcolor\":\"rgb(237,237,237)\",\"gridcolor\":\"white\",\"gridwidth\":2,\"linecolor\":\"white\",\"showbackground\":true,\"showgrid\":true,\"tickcolor\":\"rgb(51,51,51)\",\"ticks\":\"outside\",\"zerolinecolor\":\"white\"},\"zaxis\":{\"backgroundcolor\":\"rgb(237,237,237)\",\"gridcolor\":\"white\",\"gridwidth\":2,\"linecolor\":\"white\",\"showbackground\":true,\"showgrid\":true,\"tickcolor\":\"rgb(51,51,51)\",\"ticks\":\"outside\",\"zerolinecolor\":\"white\"}},\"shapedefaults\":{\"fillcolor\":\"black\",\"line\":{\"width\":0},\"opacity\":0.3},\"ternary\":{\"aaxis\":{\"gridcolor\":\"white\",\"linecolor\":\"white\",\"showgrid\":true,\"tickcolor\":\"rgb(51,51,51)\",\"ticks\":\"outside\"},\"baxis\":{\"gridcolor\":\"white\",\"linecolor\":\"white\",\"showgrid\":true,\"tickcolor\":\"rgb(51,51,51)\",\"ticks\":\"outside\"},\"bgcolor\":\"rgb(237,237,237)\",\"caxis\":{\"gridcolor\":\"white\",\"linecolor\":\"white\",\"showgrid\":true,\"tickcolor\":\"rgb(51,51,51)\",\"ticks\":\"outside\"}},\"xaxis\":{\"automargin\":true,\"gridcolor\":\"white\",\"linecolor\":\"white\",\"showgrid\":true,\"tickcolor\":\"rgb(51,51,51)\",\"ticks\":\"outside\",\"title\":{\"standoff\":15},\"zerolinecolor\":\"white\"},\"yaxis\":{\"automargin\":true,\"gridcolor\":\"white\",\"linecolor\":\"white\",\"showgrid\":true,\"tickcolor\":\"rgb(51,51,51)\",\"ticks\":\"outside\",\"title\":{\"standoff\":15},\"zerolinecolor\":\"white\"}}},\"title\":{\"text\":\"Fine Particulate Matter (PM2.5) deviation from baseline (in %)\"},\"xaxis\":{\"dtick\":24,\"tick0\":2,\"tickmode\":\"array\",\"ticktext\":[\"-5 Days Before\",\"-4 Days Before\",\"-3 Days Before\",\"-2 Days Before\",\"-1 Days Before\",\"Fire Event\",\"1 Days After\",\"2 Days After\",\"3 Days After\",\"4 Days After\"],\"tickvals\":[\"-120\",\"-96\",\"-72\",\"-48\",\"-24\",\"0\",\"24\",\"48\",\"72\",\"96\"],\"title\":{\"text\":\"Days from Fire Event\"}},\"yaxis\":{\"title\":{\"text\":\"Deviation from Baseline in %\"}}},                        {\"responsive\": true}                    ).then(function(){\n",
       "                            \n",
       "var gd = document.getElementById('079f6f64-0d21-4e4d-8b0c-18b68dfae5b4');\n",
       "var x = new MutationObserver(function (mutations, observer) {{\n",
       "        var display = window.getComputedStyle(gd).display;\n",
       "        if (!display || display === 'none') {{\n",
       "            console.log([gd, 'removed!']);\n",
       "            Plotly.purge(gd);\n",
       "            observer.disconnect();\n",
       "        }}\n",
       "}});\n",
       "\n",
       "// Listen for the removal of the full notebook cells\n",
       "var notebookContainer = gd.closest('#notebook-container');\n",
       "if (notebookContainer) {{\n",
       "    x.observe(notebookContainer, {childList: true});\n",
       "}}\n",
       "\n",
       "// Listen for the clearing of the current output cell\n",
       "var outputEl = gd.closest('.output');\n",
       "if (outputEl) {{\n",
       "    x.observe(outputEl, {childList: true});\n",
       "}}\n",
       "\n",
       "                        })                };                });            </script>        </div>"
      ]
     },
     "metadata": {},
     "output_type": "display_data"
    },
    {
     "data": {
      "application/vnd.plotly.v1+json": {
       "config": {
        "plotlyServerURL": "https://plot.ly"
       },
       "data": [
        {
         "line": {
          "color": "#5e60ce"
         },
         "mode": "lines",
         "name": "Median Spatial Baseline",
         "type": "scatter",
         "x": [
          -120,
          -119,
          -118,
          -117,
          -116,
          -115,
          -114,
          -113,
          -112,
          -111,
          -110,
          -109,
          -108,
          -107,
          -106,
          -105,
          -104,
          -103,
          -102,
          -101,
          -100,
          -99,
          -98,
          -97,
          -96,
          -95,
          -94,
          -93,
          -92,
          -91,
          -90,
          -89,
          -88,
          -87,
          -86,
          -85,
          -84,
          -83,
          -82,
          -81,
          -80,
          -79,
          -78,
          -77,
          -76,
          -75,
          -74,
          -73,
          -72,
          -71,
          -70,
          -69,
          -68,
          -67,
          -66,
          -65,
          -64,
          -63,
          -62,
          -61,
          -60,
          -59,
          -58,
          -57,
          -56,
          -55,
          -54,
          -53,
          -52,
          -51,
          -50,
          -49,
          -48,
          -47,
          -46,
          -45,
          -44,
          -43,
          -42,
          -41,
          -40,
          -39,
          -38,
          -37,
          -36,
          -35,
          -34,
          -33,
          -32,
          -31,
          -30,
          -29,
          -28,
          -27,
          -26,
          -25,
          -24,
          -23,
          -22,
          -21,
          -20,
          -19,
          -18,
          -17,
          -16,
          -15,
          -14,
          -13,
          -12,
          -11,
          -10,
          -9,
          -8,
          -7,
          -6,
          -5,
          -4,
          -3,
          -2,
          -1,
          0,
          1,
          2,
          3,
          4,
          5,
          6,
          7,
          8,
          9,
          10,
          11,
          12,
          13,
          14,
          15,
          16,
          17,
          18,
          19,
          20,
          21,
          22,
          23,
          24,
          25,
          26,
          27,
          28,
          29,
          30,
          31,
          32,
          33,
          34,
          35,
          36,
          37,
          38,
          39,
          40,
          41,
          42,
          43,
          44,
          45,
          46,
          47,
          48,
          49,
          50,
          51,
          52,
          53,
          54,
          55,
          56,
          57,
          58,
          59,
          60,
          61,
          62,
          63,
          64,
          65,
          66,
          67,
          68,
          69,
          70,
          71,
          72,
          73,
          74,
          75,
          76,
          77,
          78,
          79,
          80,
          81,
          82,
          83,
          84,
          85,
          86,
          87,
          88,
          89,
          90,
          91,
          92,
          93,
          94,
          95,
          96,
          97,
          98,
          99,
          100,
          101,
          102,
          103,
          104,
          105,
          106,
          107,
          108,
          109,
          110,
          111,
          112,
          113,
          114,
          115,
          116,
          117,
          118,
          119,
          120
         ],
         "y": [
          1.8730446555918376,
          0.5685553662418075,
          1.1174647969761642,
          1.6353316140750307,
          2.115804699277568,
          1.3717367191984575,
          1.0183703066367178,
          3.1122508773182123,
          3.138948889632287,
          2.156125450876956,
          3.246749170791241,
          0.8752189484916295,
          -0.7338705925096778,
          -1.7159057395374488,
          -1.6189579715004232,
          -1.7829402881061274,
          -2.6048817646688427,
          0.5582044538418263,
          0.2935978414145834,
          -1.5617584206588653,
          -0.2175799978557546,
          -0.5637482903020019,
          0.6156728814235013,
          -0.9887924716707296,
          -1.17120794163037,
          -1.9890014914695555,
          -2.4878129080078915,
          -3.161537541978632,
          -3.374194055483959,
          -4.629037945214042,
          -2.8829323760811265,
          -0.0449976070884705,
          -0.0011499860782748,
          -0.0811292255446849,
          0.1487124592491229,
          -0.0626745894680258,
          -0.2602841966175329,
          1.411218649725865,
          -0.4709191107976407,
          1.40605457023264,
          0.784444998137257,
          2.639970317522056,
          3.012618521281229,
          5.379045906634117,
          5.331571827383574,
          4.966135040999231,
          1.588602824985874,
          -0.4283885246182284,
          0.6263807628846596,
          -2.350711559558094,
          -2.271887320011212,
          -1.532927503375181,
          -3.761580923705199,
          -2.5045437564271578,
          -4.100579230435297,
          -2.833849628125118,
          -0.9228328662676089,
          -3.046564770090998,
          -2.505291942457899,
          -0.3714680499799394,
          -0.2860976480425381,
          -3.736931172405356,
          -2.324399659164067,
          -0.4112668083369297,
          1.405051888128206,
          1.9437047747648428,
          2.508608766245657,
          3.318370847548868,
          0.0899865825831014,
          -2.185282134445632,
          0.5123236533197684,
          -0.9368042494629414,
          -1.4455514152346027,
          1.299514865513851,
          1.9198538806875387,
          2.094251756214627,
          2.6201308193180672,
          0.6224709929584016,
          0.3381642370358984,
          2.5735816401354805,
          1.1049896973114093,
          3.667781633139944,
          1.060175413636988,
          0.3278984466338341,
          0.074954909352165,
          3.497110169476492,
          2.1695422220668004,
          0.7147179011941063,
          0.192250038051589,
          -0.5858145057813013,
          0.0304363616124181,
          -0.1672503769125533,
          2.998711420552014,
          2.857040044024361,
          1.305959935367884,
          2.0984205075602613,
          2.208990085529483,
          4.278716067353949,
          4.83175795056161,
          3.1545048820805777,
          5.074452554517528,
          3.9107823515571294,
          4.873269646004008,
          3.9555249937649473,
          3.7819594511070864,
          1.679745094725793,
          2.2387785289943007,
          3.1812716406825814,
          2.3117322809048213,
          0.2651154670109124,
          2.314220933660782,
          4.774304358532966,
          3.763035519612501,
          4.467191383838776,
          3.819856147279088,
          3.258530496822143,
          1.9237725485163224,
          2.0798505901245656,
          -0.4306657584390194,
          1.8516734988880843,
          1.128860778121621,
          7.178013342482492,
          7.745184899871615,
          7.360840588304907,
          7.538194282400834,
          3.2305145456966944,
          2.6340931583237026,
          4.255970092368844,
          8.05085617546455,
          4.150710617415476,
          4.074009734042283,
          3.635987347693504,
          3.3109230269896983,
          2.680668176986001,
          0.8481914497129095,
          -2.2993087266460543,
          -1.8816248003721725,
          -1.9431121003918967,
          -0.4745174635877203,
          -1.769754202046092,
          -1.2076090663515338,
          -1.4728432147679604,
          -3.3834502015340107,
          1.9556281209577309,
          1.53079503999074,
          2.994785320407045,
          1.4256278532605249,
          5.254437005021129,
          3.682902501355678,
          2.630272889075802,
          2.4855889585649216,
          2.484931240386068,
          -0.7635133003882189,
          0.9674999092768032,
          3.1622104387294403,
          3.376952430776514,
          0.7065060910009358,
          1.4347540637807965,
          -0.9588351008875008,
          -0.2445984217567254,
          0.2880112835461412,
          0.3452292281383773,
          0.9480837156336186,
          1.5718245608824732,
          0.4007442660705296,
          2.595845277114761,
          2.8982928753953807,
          4.117916811842215,
          4.091724297327803,
          1.9373209268121805,
          2.793633734507095,
          1.5707912116678546,
          2.7401551471061936,
          1.710897885339846,
          2.3890528265898325,
          4.975147241646982,
          -0.1541782750973053,
          2.1930298869188736,
          0.9402139395747744,
          -1.7468411490439206,
          -0.9399092004680254,
          0.0285289697269153,
          -2.6458474263659104,
          2.3727393922612805,
          0.1035164571259628,
          -2.9185704713472598,
          -1.4793497457943006,
          -0.3787951729939731,
          0.0330581542843599,
          -0.8113918822629129,
          1.216920747841321,
          0.0443556373034503,
          -1.7159580517739248,
          -1.7032388062732329,
          3.1035804137746537,
          4.686401028558751,
          4.672273773138458,
          5.875892390265936,
          4.648730927444511,
          2.1045209610621063,
          2.0420639134568708,
          2.054166941092239,
          4.383407381725735,
          1.736171904425099,
          1.6512366526582278,
          -0.0534148951778612,
          2.231399556124347,
          1.176056107127632,
          5.391525908032646,
          4.629144697452947,
          4.665912066148681,
          2.9402637035965684,
          1.056016041353014,
          -1.2942069180792326,
          -4.475517228919967,
          -0.2593828030732492,
          -0.959847489274268,
          0.6537462692180585,
          0.6256115970688203,
          2.5376281992366856,
          4.211254904016926,
          2.9385162434934164,
          2.06593274663065,
          1.3336890558916623,
          3.909789127790608,
          6.134413433542663,
          2.7333815399334105,
          4.450438860733197,
          1.1999009512213554,
          2.217354581719433,
          1.6901226042364437,
          0.9088804592579658,
          -0.1625397384198756,
          -0.2577732868040305,
          -3.251064998607567,
          -2.401593522476997,
          -0.2179462040486468,
          0.150890642436563,
          3.3740989128528964,
          3.1019061638276835,
          2.2868219326161565
         ]
        },
        {
         "line": {
          "color": "#38b000"
         },
         "mode": "lines",
         "name": "Median Temporal Baseline",
         "type": "scatter",
         "x": [
          -120,
          -119,
          -118,
          -117,
          -116,
          -115,
          -114,
          -113,
          -112,
          -111,
          -110,
          -109,
          -108,
          -107,
          -106,
          -105,
          -104,
          -103,
          -102,
          -101,
          -100,
          -99,
          -98,
          -97,
          -96,
          -95,
          -94,
          -93,
          -92,
          -91,
          -90,
          -89,
          -88,
          -87,
          -86,
          -85,
          -84,
          -83,
          -82,
          -81,
          -80,
          -79,
          -78,
          -77,
          -76,
          -75,
          -74,
          -73,
          -72,
          -71,
          -70,
          -69,
          -68,
          -67,
          -66,
          -65,
          -64,
          -63,
          -62,
          -61,
          -60,
          -59,
          -58,
          -57,
          -56,
          -55,
          -54,
          -53,
          -52,
          -51,
          -50,
          -49,
          -48,
          -47,
          -46,
          -45,
          -44,
          -43,
          -42,
          -41,
          -40,
          -39,
          -38,
          -37,
          -36,
          -35,
          -34,
          -33,
          -32,
          -31,
          -30,
          -29,
          -28,
          -27,
          -26,
          -25,
          -24,
          -23,
          -22,
          -21,
          -20,
          -19,
          -18,
          -17,
          -16,
          -15,
          -14,
          -13,
          -12,
          -11,
          -10,
          -9,
          -8,
          -7,
          -6,
          -5,
          -4,
          -3,
          -2,
          -1,
          0,
          1,
          2,
          3,
          4,
          5,
          6,
          7,
          8,
          9,
          10,
          11,
          12,
          13,
          14,
          15,
          16,
          17,
          18,
          19,
          20,
          21,
          22,
          23,
          24,
          25,
          26,
          27,
          28,
          29,
          30,
          31,
          32,
          33,
          34,
          35,
          36,
          37,
          38,
          39,
          40,
          41,
          42,
          43,
          44,
          45,
          46,
          47,
          48,
          49,
          50,
          51,
          52,
          53,
          54,
          55,
          56,
          57,
          58,
          59,
          60,
          61,
          62,
          63,
          64,
          65,
          66,
          67,
          68,
          69,
          70,
          71,
          72,
          73,
          74,
          75,
          76,
          77,
          78,
          79,
          80,
          81,
          82,
          83,
          84,
          85,
          86,
          87,
          88,
          89,
          90,
          91,
          92,
          93,
          94,
          95,
          96,
          97,
          98,
          99,
          100,
          101,
          102,
          103,
          104,
          105,
          106,
          107,
          108,
          109,
          110,
          111,
          112,
          113,
          114,
          115,
          116,
          117,
          118,
          119,
          120
         ],
         "y": [
          28.18819280164817,
          24.7644257046983,
          22.779780521614523,
          17.979748265079408,
          21.888112163150375,
          24.819778146666117,
          31.408575415331605,
          31.376002301239204,
          22.650511378596885,
          23.39733554095919,
          17.499559158518963,
          18.190785119359624,
          16.360725850342796,
          17.949841274515776,
          22.00485568109184,
          19.316416245081104,
          13.647676160439548,
          18.867420957898204,
          15.133386511263035,
          15.996583243684547,
          17.15241535087415,
          23.466205575076874,
          23.936721859532298,
          20.624913350576804,
          17.600685722360588,
          17.950433825467538,
          15.779938571779484,
          15.345721421203194,
          11.859647974038879,
          8.879519992208095,
          16.18251531603192,
          11.413458741410976,
          13.138797934526014,
          13.607046598330285,
          13.975519683733229,
          18.65769178735137,
          21.30000271718613,
          18.74722453919322,
          13.896689795054717,
          17.786927738123627,
          16.75451821038597,
          11.937990363615715,
          18.230067401371752,
          15.864033503737517,
          20.600396879049633,
          20.381686626833705,
          20.04718518114428,
          17.653945714352282,
          16.794244145191172,
          16.94255204572388,
          15.131274000926918,
          16.68255422164485,
          16.82684388159055,
          16.613516418955378,
          16.94778773572689,
          18.641051920541308,
          15.963568078112,
          14.170182805069732,
          18.805503435291406,
          13.467190132239148,
          15.596853981325275,
          17.89817428466587,
          17.684633569275768,
          21.68900852634563,
          25.085954703779812,
          20.078216955109518,
          18.643693708718914,
          23.688348955383624,
          30.660548664814655,
          27.741879323831398,
          28.546371230356737,
          24.506723911861584,
          18.624401615718668,
          26.921858140355468,
          30.58668441883875,
          32.21996880692137,
          30.00445112661947,
          26.926662485584796,
          24.648315547901632,
          23.1121591378594,
          24.101787520062544,
          22.959511083816896,
          21.898904705529908,
          24.27031149924941,
          27.863826598874795,
          22.745748742528093,
          26.26628309975927,
          24.614241750031063,
          31.8004499997977,
          28.526630880750982,
          29.850537657450516,
          28.362187002635252,
          32.52394517707778,
          39.42744145347635,
          30.008982426218637,
          26.37700600128151,
          27.958788926101576,
          27.78358607784085,
          22.173612277071868,
          20.36791891224501,
          18.226541585669906,
          16.012736324478627,
          13.942471718392255,
          14.294358473351377,
          13.552060203680227,
          20.14284712535439,
          18.72222937044745,
          21.26310251364614,
          21.897932401157526,
          19.854395085014563,
          23.16710109801532,
          27.98014970270051,
          27.73391871738115,
          30.741661690169064,
          33.525359108535746,
          36.90015137187701,
          35.96888570155987,
          31.04890036913507,
          27.39945350595281,
          29.993829492424325,
          34.9167113457043,
          37.448121851046295,
          33.88525420863883,
          34.28659978155876,
          34.70483175746549,
          39.67507966711533,
          34.9251122399472,
          32.88169983590866,
          34.45645707620163,
          30.107344333167497,
          35.93768845019527,
          35.45405985544028,
          37.971420209942295,
          26.528201376617343,
          28.398249301073662,
          24.597205852982533,
          22.200288796411918,
          28.208947518493844,
          34.259601117351835,
          41.943935540613765,
          27.97529929754099,
          40.170038067425274,
          35.47750844140627,
          39.96209655209776,
          31.18171869151052,
          36.290787242189495,
          33.94504171171201,
          38.64672341654449,
          37.22524203089603,
          32.041325721336676,
          29.967065756958256,
          41.32090506833681,
          31.085806370133373,
          27.28236755989293,
          27.748565686861184,
          26.856314289086157,
          25.72998622110808,
          22.37482342446183,
          9.737565168988237,
          14.968200310166834,
          14.19780371432807,
          12.008709719006793,
          17.79661386649758,
          18.28188063832806,
          12.672600622414864,
          18.934135780363107,
          18.823603364492026,
          20.22061718335315,
          25.890154801733168,
          22.614644785843076,
          12.67513536124838,
          10.743254982177408,
          16.533124408901035,
          12.28954000845921,
          3.656904924427984,
          -1.3685924350251288,
          -5.815081042540104,
          -3.1427003577673975,
          -4.826298130339824,
          -4.749471742338662,
          -14.852697578336148,
          -7.7721568307151045,
          -11.419064675476948,
          -6.287530975715683,
          -9.865334006391159,
          -8.814862652902566,
          -9.904436808765327,
          -3.8724674586696484,
          -1.2411235122461117,
          -10.071172736040396,
          -10.306986267275025,
          -9.623947575823854,
          -5.921762069447101,
          -7.2009655487688615,
          -8.64350829104949,
          -9.69152530387568,
          -11.334467560852023,
          -9.890691720444455,
          -10.470007801738447,
          -9.07469004267261,
          -13.095282006463673,
          -13.197448593183141,
          -10.93475154377792,
          -10.02171801479923,
          -12.160873495356766,
          -9.730833420252793,
          -12.367107787573895,
          -12.32428081320553,
          -11.851311988276464,
          -10.920140421412622,
          -7.2709348959310365,
          0.8326265403411748,
          -0.7776771366886759,
          -3.9732626064012897,
          -4.986625539124195,
          -4.614210371232996,
          -12.344889476772813,
          -11.048447175609216,
          -9.001474898638822,
          -12.920574242073634,
          -9.58631358557328,
          -6.9458133377357845,
          -10.803003524699161,
          -13.977462321720802,
          -13.60759932229184,
          -12.86986555217149,
          -9.819834335593974,
          -14.11524511825153,
          -14.402070874325851,
          -9.919973355027969,
          -4.970669531885141,
          1.0978550217045189,
          -3.32172688672307,
          -4.342571516143351,
          -4.741361122538068,
          -6.86863712399548,
          -1.5791310449814406,
          0.16000780085624333,
          2.262176926629511,
          1.1350239430943154,
          7.132544861943002
         ]
        }
       ],
       "layout": {
        "legend": {
         "font": {
          "size": 14
         },
         "title": {
          "text": "Legend"
         }
        },
        "shapes": [
         {
          "line": {
           "color": "orange",
           "width": 4
          },
          "type": "line",
          "x0": 0,
          "x1": 0,
          "xref": "x",
          "y0": 0,
          "y1": 1,
          "yref": "y domain"
         }
        ],
        "template": {
         "data": {
          "bar": [
           {
            "error_x": {
             "color": "rgb(51,51,51)"
            },
            "error_y": {
             "color": "rgb(51,51,51)"
            },
            "marker": {
             "line": {
              "color": "rgb(237,237,237)",
              "width": 0.5
             },
             "pattern": {
              "fillmode": "overlay",
              "size": 10,
              "solidity": 0.2
             }
            },
            "type": "bar"
           }
          ],
          "barpolar": [
           {
            "marker": {
             "line": {
              "color": "rgb(237,237,237)",
              "width": 0.5
             },
             "pattern": {
              "fillmode": "overlay",
              "size": 10,
              "solidity": 0.2
             }
            },
            "type": "barpolar"
           }
          ],
          "carpet": [
           {
            "aaxis": {
             "endlinecolor": "rgb(51,51,51)",
             "gridcolor": "white",
             "linecolor": "white",
             "minorgridcolor": "white",
             "startlinecolor": "rgb(51,51,51)"
            },
            "baxis": {
             "endlinecolor": "rgb(51,51,51)",
             "gridcolor": "white",
             "linecolor": "white",
             "minorgridcolor": "white",
             "startlinecolor": "rgb(51,51,51)"
            },
            "type": "carpet"
           }
          ],
          "choropleth": [
           {
            "colorbar": {
             "outlinewidth": 0,
             "tickcolor": "rgb(237,237,237)",
             "ticklen": 6,
             "ticks": "inside"
            },
            "type": "choropleth"
           }
          ],
          "contour": [
           {
            "colorbar": {
             "outlinewidth": 0,
             "tickcolor": "rgb(237,237,237)",
             "ticklen": 6,
             "ticks": "inside"
            },
            "colorscale": [
             [
              0,
              "rgb(20,44,66)"
             ],
             [
              1,
              "rgb(90,179,244)"
             ]
            ],
            "type": "contour"
           }
          ],
          "contourcarpet": [
           {
            "colorbar": {
             "outlinewidth": 0,
             "tickcolor": "rgb(237,237,237)",
             "ticklen": 6,
             "ticks": "inside"
            },
            "type": "contourcarpet"
           }
          ],
          "heatmap": [
           {
            "colorbar": {
             "outlinewidth": 0,
             "tickcolor": "rgb(237,237,237)",
             "ticklen": 6,
             "ticks": "inside"
            },
            "colorscale": [
             [
              0,
              "rgb(20,44,66)"
             ],
             [
              1,
              "rgb(90,179,244)"
             ]
            ],
            "type": "heatmap"
           }
          ],
          "heatmapgl": [
           {
            "colorbar": {
             "outlinewidth": 0,
             "tickcolor": "rgb(237,237,237)",
             "ticklen": 6,
             "ticks": "inside"
            },
            "colorscale": [
             [
              0,
              "rgb(20,44,66)"
             ],
             [
              1,
              "rgb(90,179,244)"
             ]
            ],
            "type": "heatmapgl"
           }
          ],
          "histogram": [
           {
            "marker": {
             "pattern": {
              "fillmode": "overlay",
              "size": 10,
              "solidity": 0.2
             }
            },
            "type": "histogram"
           }
          ],
          "histogram2d": [
           {
            "colorbar": {
             "outlinewidth": 0,
             "tickcolor": "rgb(237,237,237)",
             "ticklen": 6,
             "ticks": "inside"
            },
            "colorscale": [
             [
              0,
              "rgb(20,44,66)"
             ],
             [
              1,
              "rgb(90,179,244)"
             ]
            ],
            "type": "histogram2d"
           }
          ],
          "histogram2dcontour": [
           {
            "colorbar": {
             "outlinewidth": 0,
             "tickcolor": "rgb(237,237,237)",
             "ticklen": 6,
             "ticks": "inside"
            },
            "colorscale": [
             [
              0,
              "rgb(20,44,66)"
             ],
             [
              1,
              "rgb(90,179,244)"
             ]
            ],
            "type": "histogram2dcontour"
           }
          ],
          "mesh3d": [
           {
            "colorbar": {
             "outlinewidth": 0,
             "tickcolor": "rgb(237,237,237)",
             "ticklen": 6,
             "ticks": "inside"
            },
            "type": "mesh3d"
           }
          ],
          "parcoords": [
           {
            "line": {
             "colorbar": {
              "outlinewidth": 0,
              "tickcolor": "rgb(237,237,237)",
              "ticklen": 6,
              "ticks": "inside"
             }
            },
            "type": "parcoords"
           }
          ],
          "pie": [
           {
            "automargin": true,
            "type": "pie"
           }
          ],
          "scatter": [
           {
            "marker": {
             "colorbar": {
              "outlinewidth": 0,
              "tickcolor": "rgb(237,237,237)",
              "ticklen": 6,
              "ticks": "inside"
             }
            },
            "type": "scatter"
           }
          ],
          "scatter3d": [
           {
            "line": {
             "colorbar": {
              "outlinewidth": 0,
              "tickcolor": "rgb(237,237,237)",
              "ticklen": 6,
              "ticks": "inside"
             }
            },
            "marker": {
             "colorbar": {
              "outlinewidth": 0,
              "tickcolor": "rgb(237,237,237)",
              "ticklen": 6,
              "ticks": "inside"
             }
            },
            "type": "scatter3d"
           }
          ],
          "scattercarpet": [
           {
            "marker": {
             "colorbar": {
              "outlinewidth": 0,
              "tickcolor": "rgb(237,237,237)",
              "ticklen": 6,
              "ticks": "inside"
             }
            },
            "type": "scattercarpet"
           }
          ],
          "scattergeo": [
           {
            "marker": {
             "colorbar": {
              "outlinewidth": 0,
              "tickcolor": "rgb(237,237,237)",
              "ticklen": 6,
              "ticks": "inside"
             }
            },
            "type": "scattergeo"
           }
          ],
          "scattergl": [
           {
            "marker": {
             "colorbar": {
              "outlinewidth": 0,
              "tickcolor": "rgb(237,237,237)",
              "ticklen": 6,
              "ticks": "inside"
             }
            },
            "type": "scattergl"
           }
          ],
          "scattermapbox": [
           {
            "marker": {
             "colorbar": {
              "outlinewidth": 0,
              "tickcolor": "rgb(237,237,237)",
              "ticklen": 6,
              "ticks": "inside"
             }
            },
            "type": "scattermapbox"
           }
          ],
          "scatterpolar": [
           {
            "marker": {
             "colorbar": {
              "outlinewidth": 0,
              "tickcolor": "rgb(237,237,237)",
              "ticklen": 6,
              "ticks": "inside"
             }
            },
            "type": "scatterpolar"
           }
          ],
          "scatterpolargl": [
           {
            "marker": {
             "colorbar": {
              "outlinewidth": 0,
              "tickcolor": "rgb(237,237,237)",
              "ticklen": 6,
              "ticks": "inside"
             }
            },
            "type": "scatterpolargl"
           }
          ],
          "scatterternary": [
           {
            "marker": {
             "colorbar": {
              "outlinewidth": 0,
              "tickcolor": "rgb(237,237,237)",
              "ticklen": 6,
              "ticks": "inside"
             }
            },
            "type": "scatterternary"
           }
          ],
          "surface": [
           {
            "colorbar": {
             "outlinewidth": 0,
             "tickcolor": "rgb(237,237,237)",
             "ticklen": 6,
             "ticks": "inside"
            },
            "colorscale": [
             [
              0,
              "rgb(20,44,66)"
             ],
             [
              1,
              "rgb(90,179,244)"
             ]
            ],
            "type": "surface"
           }
          ],
          "table": [
           {
            "cells": {
             "fill": {
              "color": "rgb(237,237,237)"
             },
             "line": {
              "color": "white"
             }
            },
            "header": {
             "fill": {
              "color": "rgb(217,217,217)"
             },
             "line": {
              "color": "white"
             }
            },
            "type": "table"
           }
          ]
         },
         "layout": {
          "annotationdefaults": {
           "arrowhead": 0,
           "arrowwidth": 1
          },
          "autotypenumbers": "strict",
          "coloraxis": {
           "colorbar": {
            "outlinewidth": 0,
            "tickcolor": "rgb(237,237,237)",
            "ticklen": 6,
            "ticks": "inside"
           }
          },
          "colorscale": {
           "sequential": [
            [
             0,
             "rgb(20,44,66)"
            ],
            [
             1,
             "rgb(90,179,244)"
            ]
           ],
           "sequentialminus": [
            [
             0,
             "rgb(20,44,66)"
            ],
            [
             1,
             "rgb(90,179,244)"
            ]
           ]
          },
          "colorway": [
           "#F8766D",
           "#A3A500",
           "#00BF7D",
           "#00B0F6",
           "#E76BF3"
          ],
          "font": {
           "color": "rgb(51,51,51)"
          },
          "geo": {
           "bgcolor": "white",
           "lakecolor": "white",
           "landcolor": "rgb(237,237,237)",
           "showlakes": true,
           "showland": true,
           "subunitcolor": "white"
          },
          "hoverlabel": {
           "align": "left"
          },
          "hovermode": "closest",
          "paper_bgcolor": "white",
          "plot_bgcolor": "rgb(237,237,237)",
          "polar": {
           "angularaxis": {
            "gridcolor": "white",
            "linecolor": "white",
            "showgrid": true,
            "tickcolor": "rgb(51,51,51)",
            "ticks": "outside"
           },
           "bgcolor": "rgb(237,237,237)",
           "radialaxis": {
            "gridcolor": "white",
            "linecolor": "white",
            "showgrid": true,
            "tickcolor": "rgb(51,51,51)",
            "ticks": "outside"
           }
          },
          "scene": {
           "xaxis": {
            "backgroundcolor": "rgb(237,237,237)",
            "gridcolor": "white",
            "gridwidth": 2,
            "linecolor": "white",
            "showbackground": true,
            "showgrid": true,
            "tickcolor": "rgb(51,51,51)",
            "ticks": "outside",
            "zerolinecolor": "white"
           },
           "yaxis": {
            "backgroundcolor": "rgb(237,237,237)",
            "gridcolor": "white",
            "gridwidth": 2,
            "linecolor": "white",
            "showbackground": true,
            "showgrid": true,
            "tickcolor": "rgb(51,51,51)",
            "ticks": "outside",
            "zerolinecolor": "white"
           },
           "zaxis": {
            "backgroundcolor": "rgb(237,237,237)",
            "gridcolor": "white",
            "gridwidth": 2,
            "linecolor": "white",
            "showbackground": true,
            "showgrid": true,
            "tickcolor": "rgb(51,51,51)",
            "ticks": "outside",
            "zerolinecolor": "white"
           }
          },
          "shapedefaults": {
           "fillcolor": "black",
           "line": {
            "width": 0
           },
           "opacity": 0.3
          },
          "ternary": {
           "aaxis": {
            "gridcolor": "white",
            "linecolor": "white",
            "showgrid": true,
            "tickcolor": "rgb(51,51,51)",
            "ticks": "outside"
           },
           "baxis": {
            "gridcolor": "white",
            "linecolor": "white",
            "showgrid": true,
            "tickcolor": "rgb(51,51,51)",
            "ticks": "outside"
           },
           "bgcolor": "rgb(237,237,237)",
           "caxis": {
            "gridcolor": "white",
            "linecolor": "white",
            "showgrid": true,
            "tickcolor": "rgb(51,51,51)",
            "ticks": "outside"
           }
          },
          "xaxis": {
           "automargin": true,
           "gridcolor": "white",
           "linecolor": "white",
           "showgrid": true,
           "tickcolor": "rgb(51,51,51)",
           "ticks": "outside",
           "title": {
            "standoff": 15
           },
           "zerolinecolor": "white"
          },
          "yaxis": {
           "automargin": true,
           "gridcolor": "white",
           "linecolor": "white",
           "showgrid": true,
           "tickcolor": "rgb(51,51,51)",
           "ticks": "outside",
           "title": {
            "standoff": 15
           },
           "zerolinecolor": "white"
          }
         }
        },
        "title": {
         "text": "Coarse Particulate Matter (PM10) deviation from baseline (in %)"
        },
        "xaxis": {
         "dtick": 24,
         "tick0": 0,
         "tickmode": "array",
         "ticktext": [
          "-5 Days Before",
          "-4 Days Before",
          "-3 Days Before",
          "-2 Days Before",
          "-1 Days Before",
          "Fire Event",
          "1 Days After",
          "2 Days After",
          "3 Days After",
          "4 Days After"
         ],
         "tickvals": [
          "-120",
          "-96",
          "-72",
          "-48",
          "-24",
          "0",
          "24",
          "48",
          "72",
          "96"
         ],
         "title": {
          "text": "Days from Fire Event"
         }
        },
        "yaxis": {
         "title": {
          "text": "Deviation from Baseline in %"
         }
        }
       }
      },
      "text/html": [
       "<div>                            <div id=\"6785c87c-70b1-4e41-9850-602bf577f8ab\" class=\"plotly-graph-div\" style=\"height:525px; width:100%;\"></div>            <script type=\"text/javascript\">                require([\"plotly\"], function(Plotly) {                    window.PLOTLYENV=window.PLOTLYENV || {};                                    if (document.getElementById(\"6785c87c-70b1-4e41-9850-602bf577f8ab\")) {                    Plotly.newPlot(                        \"6785c87c-70b1-4e41-9850-602bf577f8ab\",                        [{\"line\":{\"color\":\"#5e60ce\"},\"mode\":\"lines\",\"name\":\"Median Spatial Baseline\",\"type\":\"scatter\",\"x\":[-120,-119,-118,-117,-116,-115,-114,-113,-112,-111,-110,-109,-108,-107,-106,-105,-104,-103,-102,-101,-100,-99,-98,-97,-96,-95,-94,-93,-92,-91,-90,-89,-88,-87,-86,-85,-84,-83,-82,-81,-80,-79,-78,-77,-76,-75,-74,-73,-72,-71,-70,-69,-68,-67,-66,-65,-64,-63,-62,-61,-60,-59,-58,-57,-56,-55,-54,-53,-52,-51,-50,-49,-48,-47,-46,-45,-44,-43,-42,-41,-40,-39,-38,-37,-36,-35,-34,-33,-32,-31,-30,-29,-28,-27,-26,-25,-24,-23,-22,-21,-20,-19,-18,-17,-16,-15,-14,-13,-12,-11,-10,-9,-8,-7,-6,-5,-4,-3,-2,-1,0,1,2,3,4,5,6,7,8,9,10,11,12,13,14,15,16,17,18,19,20,21,22,23,24,25,26,27,28,29,30,31,32,33,34,35,36,37,38,39,40,41,42,43,44,45,46,47,48,49,50,51,52,53,54,55,56,57,58,59,60,61,62,63,64,65,66,67,68,69,70,71,72,73,74,75,76,77,78,79,80,81,82,83,84,85,86,87,88,89,90,91,92,93,94,95,96,97,98,99,100,101,102,103,104,105,106,107,108,109,110,111,112,113,114,115,116,117,118,119,120],\"y\":[1.8730446555918376,0.5685553662418075,1.1174647969761642,1.6353316140750307,2.115804699277568,1.3717367191984575,1.0183703066367178,3.1122508773182123,3.138948889632287,2.156125450876956,3.246749170791241,0.8752189484916295,-0.7338705925096778,-1.7159057395374488,-1.6189579715004232,-1.7829402881061274,-2.6048817646688427,0.5582044538418263,0.2935978414145834,-1.5617584206588653,-0.2175799978557546,-0.5637482903020019,0.6156728814235013,-0.9887924716707296,-1.17120794163037,-1.9890014914695555,-2.4878129080078915,-3.161537541978632,-3.374194055483959,-4.629037945214042,-2.8829323760811265,-0.0449976070884705,-0.0011499860782748,-0.0811292255446849,0.1487124592491229,-0.0626745894680258,-0.2602841966175329,1.411218649725865,-0.4709191107976407,1.40605457023264,0.784444998137257,2.639970317522056,3.012618521281229,5.379045906634117,5.331571827383574,4.966135040999231,1.588602824985874,-0.4283885246182284,0.6263807628846596,-2.350711559558094,-2.271887320011212,-1.532927503375181,-3.761580923705199,-2.5045437564271578,-4.100579230435297,-2.833849628125118,-0.9228328662676089,-3.046564770090998,-2.505291942457899,-0.3714680499799394,-0.2860976480425381,-3.736931172405356,-2.324399659164067,-0.4112668083369297,1.405051888128206,1.9437047747648428,2.508608766245657,3.318370847548868,0.0899865825831014,-2.185282134445632,0.5123236533197684,-0.9368042494629414,-1.4455514152346027,1.299514865513851,1.9198538806875387,2.094251756214627,2.6201308193180672,0.6224709929584016,0.3381642370358984,2.5735816401354805,1.1049896973114093,3.667781633139944,1.060175413636988,0.3278984466338341,0.074954909352165,3.497110169476492,2.1695422220668004,0.7147179011941063,0.192250038051589,-0.5858145057813013,0.0304363616124181,-0.1672503769125533,2.998711420552014,2.857040044024361,1.305959935367884,2.0984205075602613,2.208990085529483,4.278716067353949,4.83175795056161,3.1545048820805777,5.074452554517528,3.9107823515571294,4.873269646004008,3.9555249937649473,3.7819594511070864,1.679745094725793,2.2387785289943007,3.1812716406825814,2.3117322809048213,0.2651154670109124,2.314220933660782,4.774304358532966,3.763035519612501,4.467191383838776,3.819856147279088,3.258530496822143,1.9237725485163224,2.0798505901245656,-0.4306657584390194,1.8516734988880843,1.128860778121621,7.178013342482492,7.745184899871615,7.360840588304907,7.538194282400834,3.2305145456966944,2.6340931583237026,4.255970092368844,8.05085617546455,4.150710617415476,4.074009734042283,3.635987347693504,3.3109230269896983,2.680668176986001,0.8481914497129095,-2.2993087266460543,-1.8816248003721725,-1.9431121003918967,-0.4745174635877203,-1.769754202046092,-1.2076090663515338,-1.4728432147679604,-3.3834502015340107,1.9556281209577309,1.53079503999074,2.994785320407045,1.4256278532605249,5.254437005021129,3.682902501355678,2.630272889075802,2.4855889585649216,2.484931240386068,-0.7635133003882189,0.9674999092768032,3.1622104387294403,3.376952430776514,0.7065060910009358,1.4347540637807965,-0.9588351008875008,-0.2445984217567254,0.2880112835461412,0.3452292281383773,0.9480837156336186,1.5718245608824732,0.4007442660705296,2.595845277114761,2.8982928753953807,4.117916811842215,4.091724297327803,1.9373209268121805,2.793633734507095,1.5707912116678546,2.7401551471061936,1.710897885339846,2.3890528265898325,4.975147241646982,-0.1541782750973053,2.1930298869188736,0.9402139395747744,-1.7468411490439206,-0.9399092004680254,0.0285289697269153,-2.6458474263659104,2.3727393922612805,0.1035164571259628,-2.9185704713472598,-1.4793497457943006,-0.3787951729939731,0.0330581542843599,-0.8113918822629129,1.216920747841321,0.0443556373034503,-1.7159580517739248,-1.7032388062732329,3.1035804137746537,4.686401028558751,4.672273773138458,5.875892390265936,4.648730927444511,2.1045209610621063,2.0420639134568708,2.054166941092239,4.383407381725735,1.736171904425099,1.6512366526582278,-0.0534148951778612,2.231399556124347,1.176056107127632,5.391525908032646,4.629144697452947,4.665912066148681,2.9402637035965684,1.056016041353014,-1.2942069180792326,-4.475517228919967,-0.2593828030732492,-0.959847489274268,0.6537462692180585,0.6256115970688203,2.5376281992366856,4.211254904016926,2.9385162434934164,2.06593274663065,1.3336890558916623,3.909789127790608,6.134413433542663,2.7333815399334105,4.450438860733197,1.1999009512213554,2.217354581719433,1.6901226042364437,0.9088804592579658,-0.1625397384198756,-0.2577732868040305,-3.251064998607567,-2.401593522476997,-0.2179462040486468,0.150890642436563,3.3740989128528964,3.1019061638276835,2.2868219326161565]},{\"line\":{\"color\":\"#38b000\"},\"mode\":\"lines\",\"name\":\"Median Temporal Baseline\",\"type\":\"scatter\",\"x\":[-120,-119,-118,-117,-116,-115,-114,-113,-112,-111,-110,-109,-108,-107,-106,-105,-104,-103,-102,-101,-100,-99,-98,-97,-96,-95,-94,-93,-92,-91,-90,-89,-88,-87,-86,-85,-84,-83,-82,-81,-80,-79,-78,-77,-76,-75,-74,-73,-72,-71,-70,-69,-68,-67,-66,-65,-64,-63,-62,-61,-60,-59,-58,-57,-56,-55,-54,-53,-52,-51,-50,-49,-48,-47,-46,-45,-44,-43,-42,-41,-40,-39,-38,-37,-36,-35,-34,-33,-32,-31,-30,-29,-28,-27,-26,-25,-24,-23,-22,-21,-20,-19,-18,-17,-16,-15,-14,-13,-12,-11,-10,-9,-8,-7,-6,-5,-4,-3,-2,-1,0,1,2,3,4,5,6,7,8,9,10,11,12,13,14,15,16,17,18,19,20,21,22,23,24,25,26,27,28,29,30,31,32,33,34,35,36,37,38,39,40,41,42,43,44,45,46,47,48,49,50,51,52,53,54,55,56,57,58,59,60,61,62,63,64,65,66,67,68,69,70,71,72,73,74,75,76,77,78,79,80,81,82,83,84,85,86,87,88,89,90,91,92,93,94,95,96,97,98,99,100,101,102,103,104,105,106,107,108,109,110,111,112,113,114,115,116,117,118,119,120],\"y\":[28.18819280164817,24.7644257046983,22.779780521614523,17.979748265079408,21.888112163150375,24.819778146666117,31.408575415331605,31.376002301239204,22.650511378596885,23.39733554095919,17.499559158518963,18.190785119359624,16.360725850342796,17.949841274515776,22.00485568109184,19.316416245081104,13.647676160439548,18.867420957898204,15.133386511263035,15.996583243684547,17.15241535087415,23.466205575076874,23.936721859532298,20.624913350576804,17.600685722360588,17.950433825467538,15.779938571779484,15.345721421203194,11.859647974038879,8.879519992208095,16.18251531603192,11.413458741410976,13.138797934526014,13.607046598330285,13.975519683733229,18.65769178735137,21.30000271718613,18.74722453919322,13.896689795054717,17.786927738123627,16.75451821038597,11.937990363615715,18.230067401371752,15.864033503737517,20.600396879049633,20.381686626833705,20.04718518114428,17.653945714352282,16.794244145191172,16.94255204572388,15.131274000926918,16.68255422164485,16.82684388159055,16.613516418955378,16.94778773572689,18.641051920541308,15.963568078112,14.170182805069732,18.805503435291406,13.467190132239148,15.596853981325275,17.89817428466587,17.684633569275768,21.68900852634563,25.085954703779812,20.078216955109518,18.643693708718914,23.688348955383624,30.660548664814655,27.741879323831398,28.546371230356737,24.506723911861584,18.624401615718668,26.921858140355468,30.58668441883875,32.21996880692137,30.00445112661947,26.926662485584796,24.648315547901632,23.1121591378594,24.101787520062544,22.959511083816896,21.898904705529908,24.27031149924941,27.863826598874795,22.745748742528093,26.26628309975927,24.614241750031063,31.8004499997977,28.526630880750982,29.850537657450516,28.362187002635252,32.52394517707778,39.42744145347635,30.008982426218637,26.37700600128151,27.958788926101576,27.78358607784085,22.173612277071868,20.36791891224501,18.226541585669906,16.012736324478627,13.942471718392255,14.294358473351377,13.552060203680227,20.14284712535439,18.72222937044745,21.26310251364614,21.897932401157526,19.854395085014563,23.16710109801532,27.98014970270051,27.73391871738115,30.741661690169064,33.525359108535746,36.90015137187701,35.96888570155987,31.04890036913507,27.39945350595281,29.993829492424325,34.9167113457043,37.448121851046295,33.88525420863883,34.28659978155876,34.70483175746549,39.67507966711533,34.9251122399472,32.88169983590866,34.45645707620163,30.107344333167497,35.93768845019527,35.45405985544028,37.971420209942295,26.528201376617343,28.398249301073662,24.597205852982533,22.200288796411918,28.208947518493844,34.259601117351835,41.943935540613765,27.97529929754099,40.170038067425274,35.47750844140627,39.96209655209776,31.18171869151052,36.290787242189495,33.94504171171201,38.64672341654449,37.22524203089603,32.041325721336676,29.967065756958256,41.32090506833681,31.085806370133373,27.28236755989293,27.748565686861184,26.856314289086157,25.72998622110808,22.37482342446183,9.737565168988237,14.968200310166834,14.19780371432807,12.008709719006793,17.79661386649758,18.28188063832806,12.672600622414864,18.934135780363107,18.823603364492026,20.22061718335315,25.890154801733168,22.614644785843076,12.67513536124838,10.743254982177408,16.533124408901035,12.28954000845921,3.656904924427984,-1.3685924350251288,-5.815081042540104,-3.1427003577673975,-4.826298130339824,-4.749471742338662,-14.852697578336148,-7.7721568307151045,-11.419064675476948,-6.287530975715683,-9.865334006391159,-8.814862652902566,-9.904436808765327,-3.8724674586696484,-1.2411235122461117,-10.071172736040396,-10.306986267275025,-9.623947575823854,-5.921762069447101,-7.2009655487688615,-8.64350829104949,-9.69152530387568,-11.334467560852023,-9.890691720444455,-10.470007801738447,-9.07469004267261,-13.095282006463673,-13.197448593183141,-10.93475154377792,-10.02171801479923,-12.160873495356766,-9.730833420252793,-12.367107787573895,-12.32428081320553,-11.851311988276464,-10.920140421412622,-7.2709348959310365,0.8326265403411748,-0.7776771366886759,-3.9732626064012897,-4.986625539124195,-4.614210371232996,-12.344889476772813,-11.048447175609216,-9.001474898638822,-12.920574242073634,-9.58631358557328,-6.9458133377357845,-10.803003524699161,-13.977462321720802,-13.60759932229184,-12.86986555217149,-9.819834335593974,-14.11524511825153,-14.402070874325851,-9.919973355027969,-4.970669531885141,1.0978550217045189,-3.32172688672307,-4.342571516143351,-4.741361122538068,-6.86863712399548,-1.5791310449814406,0.16000780085624333,2.262176926629511,1.1350239430943154,7.132544861943002]}],                        {\"legend\":{\"font\":{\"size\":14},\"title\":{\"text\":\"Legend\"}},\"shapes\":[{\"line\":{\"color\":\"orange\",\"width\":4},\"type\":\"line\",\"x0\":0,\"x1\":0,\"xref\":\"x\",\"y0\":0,\"y1\":1,\"yref\":\"y domain\"}],\"template\":{\"data\":{\"bar\":[{\"error_x\":{\"color\":\"rgb(51,51,51)\"},\"error_y\":{\"color\":\"rgb(51,51,51)\"},\"marker\":{\"line\":{\"color\":\"rgb(237,237,237)\",\"width\":0.5},\"pattern\":{\"fillmode\":\"overlay\",\"size\":10,\"solidity\":0.2}},\"type\":\"bar\"}],\"barpolar\":[{\"marker\":{\"line\":{\"color\":\"rgb(237,237,237)\",\"width\":0.5},\"pattern\":{\"fillmode\":\"overlay\",\"size\":10,\"solidity\":0.2}},\"type\":\"barpolar\"}],\"carpet\":[{\"aaxis\":{\"endlinecolor\":\"rgb(51,51,51)\",\"gridcolor\":\"white\",\"linecolor\":\"white\",\"minorgridcolor\":\"white\",\"startlinecolor\":\"rgb(51,51,51)\"},\"baxis\":{\"endlinecolor\":\"rgb(51,51,51)\",\"gridcolor\":\"white\",\"linecolor\":\"white\",\"minorgridcolor\":\"white\",\"startlinecolor\":\"rgb(51,51,51)\"},\"type\":\"carpet\"}],\"choropleth\":[{\"colorbar\":{\"outlinewidth\":0,\"tickcolor\":\"rgb(237,237,237)\",\"ticklen\":6,\"ticks\":\"inside\"},\"type\":\"choropleth\"}],\"contour\":[{\"colorbar\":{\"outlinewidth\":0,\"tickcolor\":\"rgb(237,237,237)\",\"ticklen\":6,\"ticks\":\"inside\"},\"colorscale\":[[0,\"rgb(20,44,66)\"],[1,\"rgb(90,179,244)\"]],\"type\":\"contour\"}],\"contourcarpet\":[{\"colorbar\":{\"outlinewidth\":0,\"tickcolor\":\"rgb(237,237,237)\",\"ticklen\":6,\"ticks\":\"inside\"},\"type\":\"contourcarpet\"}],\"heatmap\":[{\"colorbar\":{\"outlinewidth\":0,\"tickcolor\":\"rgb(237,237,237)\",\"ticklen\":6,\"ticks\":\"inside\"},\"colorscale\":[[0,\"rgb(20,44,66)\"],[1,\"rgb(90,179,244)\"]],\"type\":\"heatmap\"}],\"heatmapgl\":[{\"colorbar\":{\"outlinewidth\":0,\"tickcolor\":\"rgb(237,237,237)\",\"ticklen\":6,\"ticks\":\"inside\"},\"colorscale\":[[0,\"rgb(20,44,66)\"],[1,\"rgb(90,179,244)\"]],\"type\":\"heatmapgl\"}],\"histogram\":[{\"marker\":{\"pattern\":{\"fillmode\":\"overlay\",\"size\":10,\"solidity\":0.2}},\"type\":\"histogram\"}],\"histogram2d\":[{\"colorbar\":{\"outlinewidth\":0,\"tickcolor\":\"rgb(237,237,237)\",\"ticklen\":6,\"ticks\":\"inside\"},\"colorscale\":[[0,\"rgb(20,44,66)\"],[1,\"rgb(90,179,244)\"]],\"type\":\"histogram2d\"}],\"histogram2dcontour\":[{\"colorbar\":{\"outlinewidth\":0,\"tickcolor\":\"rgb(237,237,237)\",\"ticklen\":6,\"ticks\":\"inside\"},\"colorscale\":[[0,\"rgb(20,44,66)\"],[1,\"rgb(90,179,244)\"]],\"type\":\"histogram2dcontour\"}],\"mesh3d\":[{\"colorbar\":{\"outlinewidth\":0,\"tickcolor\":\"rgb(237,237,237)\",\"ticklen\":6,\"ticks\":\"inside\"},\"type\":\"mesh3d\"}],\"parcoords\":[{\"line\":{\"colorbar\":{\"outlinewidth\":0,\"tickcolor\":\"rgb(237,237,237)\",\"ticklen\":6,\"ticks\":\"inside\"}},\"type\":\"parcoords\"}],\"pie\":[{\"automargin\":true,\"type\":\"pie\"}],\"scatter\":[{\"marker\":{\"colorbar\":{\"outlinewidth\":0,\"tickcolor\":\"rgb(237,237,237)\",\"ticklen\":6,\"ticks\":\"inside\"}},\"type\":\"scatter\"}],\"scatter3d\":[{\"line\":{\"colorbar\":{\"outlinewidth\":0,\"tickcolor\":\"rgb(237,237,237)\",\"ticklen\":6,\"ticks\":\"inside\"}},\"marker\":{\"colorbar\":{\"outlinewidth\":0,\"tickcolor\":\"rgb(237,237,237)\",\"ticklen\":6,\"ticks\":\"inside\"}},\"type\":\"scatter3d\"}],\"scattercarpet\":[{\"marker\":{\"colorbar\":{\"outlinewidth\":0,\"tickcolor\":\"rgb(237,237,237)\",\"ticklen\":6,\"ticks\":\"inside\"}},\"type\":\"scattercarpet\"}],\"scattergeo\":[{\"marker\":{\"colorbar\":{\"outlinewidth\":0,\"tickcolor\":\"rgb(237,237,237)\",\"ticklen\":6,\"ticks\":\"inside\"}},\"type\":\"scattergeo\"}],\"scattergl\":[{\"marker\":{\"colorbar\":{\"outlinewidth\":0,\"tickcolor\":\"rgb(237,237,237)\",\"ticklen\":6,\"ticks\":\"inside\"}},\"type\":\"scattergl\"}],\"scattermapbox\":[{\"marker\":{\"colorbar\":{\"outlinewidth\":0,\"tickcolor\":\"rgb(237,237,237)\",\"ticklen\":6,\"ticks\":\"inside\"}},\"type\":\"scattermapbox\"}],\"scatterpolar\":[{\"marker\":{\"colorbar\":{\"outlinewidth\":0,\"tickcolor\":\"rgb(237,237,237)\",\"ticklen\":6,\"ticks\":\"inside\"}},\"type\":\"scatterpolar\"}],\"scatterpolargl\":[{\"marker\":{\"colorbar\":{\"outlinewidth\":0,\"tickcolor\":\"rgb(237,237,237)\",\"ticklen\":6,\"ticks\":\"inside\"}},\"type\":\"scatterpolargl\"}],\"scatterternary\":[{\"marker\":{\"colorbar\":{\"outlinewidth\":0,\"tickcolor\":\"rgb(237,237,237)\",\"ticklen\":6,\"ticks\":\"inside\"}},\"type\":\"scatterternary\"}],\"surface\":[{\"colorbar\":{\"outlinewidth\":0,\"tickcolor\":\"rgb(237,237,237)\",\"ticklen\":6,\"ticks\":\"inside\"},\"colorscale\":[[0,\"rgb(20,44,66)\"],[1,\"rgb(90,179,244)\"]],\"type\":\"surface\"}],\"table\":[{\"cells\":{\"fill\":{\"color\":\"rgb(237,237,237)\"},\"line\":{\"color\":\"white\"}},\"header\":{\"fill\":{\"color\":\"rgb(217,217,217)\"},\"line\":{\"color\":\"white\"}},\"type\":\"table\"}]},\"layout\":{\"annotationdefaults\":{\"arrowhead\":0,\"arrowwidth\":1},\"autotypenumbers\":\"strict\",\"coloraxis\":{\"colorbar\":{\"outlinewidth\":0,\"tickcolor\":\"rgb(237,237,237)\",\"ticklen\":6,\"ticks\":\"inside\"}},\"colorscale\":{\"sequential\":[[0,\"rgb(20,44,66)\"],[1,\"rgb(90,179,244)\"]],\"sequentialminus\":[[0,\"rgb(20,44,66)\"],[1,\"rgb(90,179,244)\"]]},\"colorway\":[\"#F8766D\",\"#A3A500\",\"#00BF7D\",\"#00B0F6\",\"#E76BF3\"],\"font\":{\"color\":\"rgb(51,51,51)\"},\"geo\":{\"bgcolor\":\"white\",\"lakecolor\":\"white\",\"landcolor\":\"rgb(237,237,237)\",\"showlakes\":true,\"showland\":true,\"subunitcolor\":\"white\"},\"hoverlabel\":{\"align\":\"left\"},\"hovermode\":\"closest\",\"paper_bgcolor\":\"white\",\"plot_bgcolor\":\"rgb(237,237,237)\",\"polar\":{\"angularaxis\":{\"gridcolor\":\"white\",\"linecolor\":\"white\",\"showgrid\":true,\"tickcolor\":\"rgb(51,51,51)\",\"ticks\":\"outside\"},\"bgcolor\":\"rgb(237,237,237)\",\"radialaxis\":{\"gridcolor\":\"white\",\"linecolor\":\"white\",\"showgrid\":true,\"tickcolor\":\"rgb(51,51,51)\",\"ticks\":\"outside\"}},\"scene\":{\"xaxis\":{\"backgroundcolor\":\"rgb(237,237,237)\",\"gridcolor\":\"white\",\"gridwidth\":2,\"linecolor\":\"white\",\"showbackground\":true,\"showgrid\":true,\"tickcolor\":\"rgb(51,51,51)\",\"ticks\":\"outside\",\"zerolinecolor\":\"white\"},\"yaxis\":{\"backgroundcolor\":\"rgb(237,237,237)\",\"gridcolor\":\"white\",\"gridwidth\":2,\"linecolor\":\"white\",\"showbackground\":true,\"showgrid\":true,\"tickcolor\":\"rgb(51,51,51)\",\"ticks\":\"outside\",\"zerolinecolor\":\"white\"},\"zaxis\":{\"backgroundcolor\":\"rgb(237,237,237)\",\"gridcolor\":\"white\",\"gridwidth\":2,\"linecolor\":\"white\",\"showbackground\":true,\"showgrid\":true,\"tickcolor\":\"rgb(51,51,51)\",\"ticks\":\"outside\",\"zerolinecolor\":\"white\"}},\"shapedefaults\":{\"fillcolor\":\"black\",\"line\":{\"width\":0},\"opacity\":0.3},\"ternary\":{\"aaxis\":{\"gridcolor\":\"white\",\"linecolor\":\"white\",\"showgrid\":true,\"tickcolor\":\"rgb(51,51,51)\",\"ticks\":\"outside\"},\"baxis\":{\"gridcolor\":\"white\",\"linecolor\":\"white\",\"showgrid\":true,\"tickcolor\":\"rgb(51,51,51)\",\"ticks\":\"outside\"},\"bgcolor\":\"rgb(237,237,237)\",\"caxis\":{\"gridcolor\":\"white\",\"linecolor\":\"white\",\"showgrid\":true,\"tickcolor\":\"rgb(51,51,51)\",\"ticks\":\"outside\"}},\"xaxis\":{\"automargin\":true,\"gridcolor\":\"white\",\"linecolor\":\"white\",\"showgrid\":true,\"tickcolor\":\"rgb(51,51,51)\",\"ticks\":\"outside\",\"title\":{\"standoff\":15},\"zerolinecolor\":\"white\"},\"yaxis\":{\"automargin\":true,\"gridcolor\":\"white\",\"linecolor\":\"white\",\"showgrid\":true,\"tickcolor\":\"rgb(51,51,51)\",\"ticks\":\"outside\",\"title\":{\"standoff\":15},\"zerolinecolor\":\"white\"}}},\"title\":{\"text\":\"Coarse Particulate Matter (PM10) deviation from baseline (in %)\"},\"xaxis\":{\"dtick\":24,\"tick0\":0,\"tickmode\":\"array\",\"ticktext\":[\"-5 Days Before\",\"-4 Days Before\",\"-3 Days Before\",\"-2 Days Before\",\"-1 Days Before\",\"Fire Event\",\"1 Days After\",\"2 Days After\",\"3 Days After\",\"4 Days After\"],\"tickvals\":[\"-120\",\"-96\",\"-72\",\"-48\",\"-24\",\"0\",\"24\",\"48\",\"72\",\"96\"],\"title\":{\"text\":\"Days from Fire Event\"}},\"yaxis\":{\"title\":{\"text\":\"Deviation from Baseline in %\"}}},                        {\"responsive\": true}                    ).then(function(){\n",
       "                            \n",
       "var gd = document.getElementById('6785c87c-70b1-4e41-9850-602bf577f8ab');\n",
       "var x = new MutationObserver(function (mutations, observer) {{\n",
       "        var display = window.getComputedStyle(gd).display;\n",
       "        if (!display || display === 'none') {{\n",
       "            console.log([gd, 'removed!']);\n",
       "            Plotly.purge(gd);\n",
       "            observer.disconnect();\n",
       "        }}\n",
       "}});\n",
       "\n",
       "// Listen for the removal of the full notebook cells\n",
       "var notebookContainer = gd.closest('#notebook-container');\n",
       "if (notebookContainer) {{\n",
       "    x.observe(notebookContainer, {childList: true});\n",
       "}}\n",
       "\n",
       "// Listen for the clearing of the current output cell\n",
       "var outputEl = gd.closest('.output');\n",
       "if (outputEl) {{\n",
       "    x.observe(outputEl, {childList: true});\n",
       "}}\n",
       "\n",
       "                        })                };                });            </script>        </div>"
      ]
     },
     "metadata": {},
     "output_type": "display_data"
    }
   ],
   "source": [
    "TEMPLATE = pio.templates[\"ggplot2\"]\n",
    "\n",
    "for pol in ['PM25', 'PM10']: #\n",
    "    \n",
    "    df_spatial = pollutant_difference_percent_pol_sp[pol]\n",
    "    df_spatial = df_spatial[(np.abs(stats.zscore(df_spatial)) < 5).all(axis=1)]\n",
    "    \n",
    "    pol_df_spatial = df_spatial.quantile([.1, .25, .5, .75, .9]) # calculate percentiles\n",
    "    mean_df_spatial = df_spatial.mean() # mean\n",
    "    std_dev_df_spatial = df_spatial.std()  # standard deviation\n",
    "    \n",
    "    df_temporal = pollutant_difference_percent_pol_tp[pol]\n",
    "    df_temporal = df_temporal[(np.abs(stats.zscore(df_temporal)) < 5).all(axis=1)]\n",
    "    \n",
    "    pol_df_temporal = df_temporal.quantile([.1, .25, .5, .75, .9]) # calculate percentiles\n",
    "    mean_df_temporal = df_temporal.mean() # mean\n",
    "    std_dev_df_temporal = df_temporal.std()  # standard deviation\n",
    "    \n",
    "    fig = go.Figure()\n",
    "    \n",
    "    cols = [int(float(col)) for col in pol_df_temporal.columns] # get the value range for the x axis, \n",
    "\n",
    "    fig.add_trace(go.Scatter(\n",
    "        x=cols,\n",
    "        y=pol_df_spatial.loc[0.5],\n",
    "        mode='lines',\n",
    "        line_color='#5e60ce',\n",
    "        name='Median Spatial Baseline'\n",
    "    ))\n",
    "    \n",
    "    fig.add_trace(go.Scatter(\n",
    "        x=cols,\n",
    "        y=pol_df_temporal.loc[0.5],\n",
    "        mode='lines',\n",
    "        line_color='#38b000',\n",
    "        name='Median Temporal Baseline'\n",
    "    ))\n",
    "        \n",
    "    fig.update_layout(\n",
    "                title=f'{POLLUTANTS[pol][\"FULL_NAME\"]} ({POLLUTANTS[pol][\"FORMULA_HTML\"]}) deviation from baseline (in %)',\n",
    "                xaxis_title=\"Days from Fire Event\",\n",
    "                yaxis_title=\"Deviation from Baseline in %\",\n",
    "                legend_title=\"Legend\",\n",
    "                )# Add shapes\n",
    "    \n",
    "    fig.update_layout(\n",
    "                legend = {'font_size': 14},\n",
    "                template=TEMPLATE,\n",
    "                xaxis = dict(\n",
    "                    tickmode = 'array',\n",
    "                    tick0 = df_spatial.reset_index()['hours_from_fe'][0],\n",
    "                    dtick = 24))\n",
    "    \n",
    "    fig.add_vline(x=0, line_width=4, line_color=\"orange\")\n",
    "    \n",
    "    fig.update_xaxes(\n",
    "        ticktext = [\n",
    "            f'{int(x/24)} Days Before' if x < 0 else f'{int(x/24)} Days After'.replace(\"0 Days After\", \"Fire Event\") for x in list(\n",
    "                range(\n",
    "                    int(float(list(df_spatial.columns)[0])),\n",
    "                    int(float(list(df_spatial.columns)[-1])),\n",
    "                    24\n",
    "                )\n",
    "            )\n",
    "        ],\n",
    "        tickvals=[str(x) for x in list(\n",
    "            range(\n",
    "                    int(float(list(df_spatial.columns)[0])),\n",
    "                    int(float(list(df_spatial.columns)[-1])),\n",
    "                    24\n",
    "                )\n",
    "        )]\n",
    "    )\n",
    "    \n",
    "    fig.show()\n",
    "    "
   ]
  },
  {
   "cell_type": "markdown",
   "metadata": {},
   "source": [
    "## Create a plotly graph visualising some group statistics  "
   ]
  },
  {
   "cell_type": "code",
   "execution_count": null,
   "metadata": {
    "scrolled": true
   },
   "outputs": [],
   "source": [
    "TEMPLATE = pio.templates[\"ggplot2\"]  # layout template to use for the figure styling\n",
    "BASELINE = 'TP' # SP or TP\n",
    "\n",
    "dict_baseline = {\n",
    "    'SP': pollutant_difference_percent_pol_sp,\n",
    "    'TP': pollutant_difference_percent_pol_tp,\n",
    "}\n",
    "\n",
    "for ind, pol in enumerate(dict_baseline[BASELINE]):\n",
    "    \n",
    "    if dict_baseline[BASELINE][pol] is None:\n",
    "        continue # if no data, skip to the next pollutant\n",
    "    \n",
    "    df = dict_baseline[BASELINE][pol] # select the data gathered\n",
    "    df = df[(np.abs(stats.zscore(df)) < 4).all(axis=1)]\n",
    "    pol_df = df.quantile([.1, .25, .5, .75, .9]) # calculate percentiles\n",
    "    mean_df = df.mean() # mean\n",
    "    std_dev_df = df.std()  # standard deviation\n",
    "    \n",
    "    cols = [int(float(col)) for col in df.columns] # get the value range for the x axis, \n",
    "    \n",
    "    # create plotly figure and add the traces\n",
    "    fig = go.Figure()\n",
    "    fig.add_trace(go.Scatter(\n",
    "        x=cols,\n",
    "        y=pol_df.loc[0.25],\n",
    "        fill=None,\n",
    "        mode='lines',\n",
    "        line_color='#ffd6a5',\n",
    "        name='25th percentile'\n",
    "        ))\n",
    "    fig.add_trace(go.Scatter(\n",
    "        x=cols,\n",
    "        y=pol_df.loc[0.75],\n",
    "        fill='tonexty', # fill area between trace0 and trace1\n",
    "        mode='lines',\n",
    "        line_color='#ffd6a5',\n",
    "        name='75th percentile',\n",
    "    ))\n",
    "    fig.add_trace(go.Scatter(\n",
    "        x=cols,\n",
    "        y=pol_df.loc[0.5],\n",
    "        mode='lines',\n",
    "        line_color='red',\n",
    "        name='Median'\n",
    "    ))\n",
    "    \n",
    "    fig.add_trace(go.Scatter(\n",
    "        x=cols,\n",
    "        y=mean_df,\n",
    "        mode='lines',\n",
    "        line_color='blue',\n",
    "        name='Mean'\n",
    "    ))\n",
    "        \n",
    "    fig.update_layout(\n",
    "                title=f'{POLLUTANTS[pol][\"FULL_NAME\"]} ({POLLUTANTS[pol][\"FORMULA_HTML\"]}) deviation from baseline (in %)',\n",
    "                xaxis_title=\"Days from Fire Event\",\n",
    "                yaxis_title=\"Deviation from Baseline in %\",\n",
    "                legend_title=\"Legend\",\n",
    "                )# Add shapes\n",
    "\n",
    "    fig.update_layout(\n",
    "                legend = {'font_size': 14},\n",
    "                template=TEMPLATE,\n",
    "                xaxis = dict(\n",
    "                    tickmode = 'array',\n",
    "                    tick0 = df.reset_index()['hours_from_fe'][0],\n",
    "                    dtick = 24))\n",
    "    fig.update_xaxes(\n",
    "        ticktext = [\n",
    "            f'{int(x/24)} Days Before' if x < 0 else f'{int(x/24)} Days After'.replace(\"0 days after\", \"Fire Event\") for x in list(\n",
    "                range(\n",
    "                    int(float(list(df.columns)[0])),\n",
    "                    int(float(list(df.columns)[-1])),\n",
    "                    24\n",
    "                )\n",
    "            )\n",
    "        ],\n",
    "        tickvals=[str(x) for x in list(\n",
    "            range(\n",
    "                    int(float(list(df.columns)[0])),\n",
    "                    int(float(list(df.columns)[-1])),\n",
    "                    24\n",
    "                ))]\n",
    "    )\n",
    "\n",
    "\n",
    "\n",
    "    fig.show()\n",
    "    \n",
    "    if BASELINE == 'TP':\n",
    "        output_loc = Path(DATA_DIR_PLOTS).joinpath('notebooks/baseline_deviation/temporal/figures')\n",
    "    elif BASELINE == 'SP':\n",
    "        output_loc = Path(DATA_DIR_PLOTS).joinpath('notebooks/baseline_deviation/spatial/figures')\n",
    "\n",
    "    if not os.path.exists(output_loc):\n",
    "        os.makedirs(output_loc)\n",
    "\n",
    "    fig.write_html(output_loc.joinpath(f\"{pol}.html\"))"
   ]
  }
 ],
 "metadata": {
  "kernelspec": {
   "display_name": "Python 3 (ipykernel)",
   "language": "python",
   "name": "python3"
  },
  "language_info": {
   "codemirror_mode": {
    "name": "ipython",
    "version": 3
   },
   "file_extension": ".py",
   "mimetype": "text/x-python",
   "name": "python",
   "nbconvert_exporter": "python",
   "pygments_lexer": "ipython3",
   "version": "3.9.6"
  }
 },
 "nbformat": 4,
 "nbformat_minor": 4
}

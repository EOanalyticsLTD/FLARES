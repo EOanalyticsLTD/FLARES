{
 "cells": [
  {
   "cell_type": "code",
   "execution_count": null,
   "id": "3972d449",
   "metadata": {},
   "outputs": [],
   "source": [
    "import os, sys, glob\n",
    "from pathlib import Path\n",
    "\n",
    "# adds the package path to the Python path to make sure all the local imports work fine \n",
    "if os.path.dirname(os.path.dirname(os.path.dirname(os.getcwd()))) not in sys.path:\n",
    "    sys.path.append(os.path.dirname(os.path.dirname(os.path.dirname(os.getcwd()))))\n",
    "\n",
    "# local imports \n",
    "from wp4.constants import POLLUTANTS, DATA_DIR_CAMS_AN, DATA_DIR_MERA, DATA_DIR_ERA5, DB_HOST, DB_NAME, DB_USER, DB_PASS\n",
    "from wp4.baseline.spatial import calculate_wind_speed_direction\n",
    "from wp4.visualisation.wind import create_windrose\n",
    "\n",
    "# import remaining packages needed for the script\n",
    "import xarray as xr\n",
    "import pandas as pd\n",
    "import psycopg2 \n",
    "from datetime import datetime, timedelta, date\n",
    "\n",
    "import cartopy.crs as ccrs\n",
    "import matplotlib.pyplot as plt\n",
    "\n",
    "import plotly.io as pio\n",
    "import plotly.graph_objects as go\n",
    "from plotly.subplots import make_subplots\n",
    "import plotly.express as px"
   ]
  },
  {
   "cell_type": "markdown",
   "id": "391e42a1",
   "metadata": {},
   "source": [
    "## Load fire events from the database that were detected by satellite and have a FRP value"
   ]
  },
  {
   "cell_type": "code",
   "execution_count": null,
   "id": "4f21e86f",
   "metadata": {},
   "outputs": [],
   "source": [
    "conn = psycopg2.connect(dbname=DB_NAME, user=DB_USER, password=DB_PASS, host=DB_HOST)\n",
    "cur = conn.cursor()\n",
    "\n",
    "query = \"\"\"\n",
    "    SELECT id, datetime, ST_X(geometry), ST_Y(geometry), source, location, reference, type, info, frp\n",
    "    FROM public.all_fire_events\n",
    "    WHERE \"frp\" > 0 AND \"frp\" IS NOT NULL AND source = 'Satellite'\n",
    "\"\"\"\n",
    "\n",
    "df_fire_events = pd.read_sql_query(query,con=conn).rename(columns = {'st_x':'longitude', 'st_y':'latitude'})\n",
    "\n",
    "conn.close()\n",
    "\n",
    "if len(df_fire_events) == 0:\n",
    "    print('No fire events found matching your search parameters')\n",
    "else:\n",
    "    print(f'Fire events loaded from database: {len(df_fire_events)}')"
   ]
  },
  {
   "cell_type": "markdown",
   "id": "0be5b3e4",
   "metadata": {},
   "source": [
    "## Load the ERA5 & MERA datasets"
   ]
  },
  {
   "cell_type": "code",
   "execution_count": null,
   "id": "9ae5ce0b",
   "metadata": {},
   "outputs": [],
   "source": [
    "ds_era5 = xr.open_dataset(Path(DATA_DIR_ERA5).joinpath('era5.nc'))\n",
    "ds_mera = xr.open_dataset(Path(DATA_DIR_MERA).joinpath('mera.nc'))"
   ]
  },
  {
   "cell_type": "markdown",
   "id": "e58ec2ee",
   "metadata": {},
   "source": [
    "## Calculate the wind direction & speed at the time and location of the fire event"
   ]
  },
  {
   "cell_type": "code",
   "execution_count": null,
   "id": "c7ff810f",
   "metadata": {
    "scrolled": true
   },
   "outputs": [],
   "source": [
    "df_fe_data = pd.DataFrame(columns=['wind_direction', 'wind_speed', 'u10'])\n",
    "ireland_data = []\n",
    "\n",
    "for ind, row in df_fire_events.iterrows():\n",
    "    \n",
    "    if row['datetime'].date() > date(year=2019, month=8, day=31):\n",
    "        ds_meteo = ds_era5.sel(\n",
    "            time=row['datetime'].replace(minute=0),\n",
    "            method='nearest',\n",
    "        )\n",
    "        \n",
    "    else:\n",
    "        ds_meteo = ds_mera.sel(\n",
    "            time=row['datetime'].replace(minute=0),\n",
    "            method='nearest',\n",
    "        )\n",
    "        \n",
    "        ds_meteo['longitude'] = ds_meteo.longitude \n",
    "        \n",
    "    ds_meteo = calculate_wind_speed_direction(ds_meteo, convention='from')\n",
    "    \n",
    "    ds_meteo_loc = ds_meteo.sel(\n",
    "        latitude=row['latitude'],\n",
    "        longitude=row['longitude'],\n",
    "        method='nearest'\n",
    "    )\n",
    "\n",
    "    df_fe = ds_meteo_loc.to_pandas()[['wind_direction', 'wind_speed', 'u10']]\n",
    "    df_fe_data.loc[df_fe_data.shape[0]] = [\n",
    "        df_fe['wind_direction']._magnitude,\n",
    "        df_fe['wind_speed']._magnitude,\n",
    "        df_fe['u10'],\n",
    "    ]\n",
    "    \n",
    "    df_ire = ds_meteo.to_dataframe()[['wind_direction', 'wind_speed', 'u10']].reset_index().drop(columns=['longitude', 'latitude'])\n",
    "    ireland_data += [df_ire]"
   ]
  },
  {
   "cell_type": "markdown",
   "id": "6d1d95e6",
   "metadata": {},
   "source": [
    "## Create windrose plots visualizing the wind characteristics for all the fire events"
   ]
  },
  {
   "cell_type": "code",
   "execution_count": null,
   "id": "97f3821b",
   "metadata": {},
   "outputs": [],
   "source": [
    "fig = create_windrose(df_fe_data, title=f'Wind characteristics at location of fire events ({len(df_fire_events)} fires)')\n",
    "fig.show()\n",
    "\n",
    "df_ire_combined = pd.concat(ireland_data).reset_index().drop(columns=['index'])\n",
    "fig = create_windrose(df_ire_combined, title='Wind info for the whole of Ireland during the fire events')\n",
    "fig.show()"
   ]
  },
  {
   "cell_type": "markdown",
   "id": "51956052",
   "metadata": {},
   "source": [
    "## Create a windrose plot for all the wind information available in the MERA dataset"
   ]
  },
  {
   "cell_type": "code",
   "execution_count": null,
   "id": "e25c35a8",
   "metadata": {},
   "outputs": [],
   "source": [
    "ds_mera_wind = calculate_wind_speed_direction(ds_mera, convention='from')\n",
    "df_mera = ds_mera_wind.to_dataframe()[['wind_direction', 'wind_speed', 'u10']].reset_index().drop(columns=['longitude', 'latitude'])\n",
    "fig = create_windrose(df_mera, title='Windrose Ireland 2015-2019 (MERA)')\n",
    "fig.show()"
   ]
  }
 ],
 "metadata": {
  "kernelspec": {
   "display_name": "Python 3 (ipykernel)",
   "language": "python",
   "name": "python3"
  },
  "language_info": {
   "codemirror_mode": {
    "name": "ipython",
    "version": 3
   },
   "file_extension": ".py",
   "mimetype": "text/x-python",
   "name": "python",
   "nbconvert_exporter": "python",
   "pygments_lexer": "ipython3",
   "version": "3.9.6"
  }
 },
 "nbformat": 4,
 "nbformat_minor": 5
}

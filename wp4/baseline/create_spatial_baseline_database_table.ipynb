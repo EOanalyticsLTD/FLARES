{
 "cells": [
  {
   "cell_type": "code",
   "execution_count": 1,
   "id": "d29695b0",
   "metadata": {},
   "outputs": [],
   "source": [
    "import xarray as xr\n",
    "import numpy as np\n",
    "import os, sys\n",
    "import psycopg2, psycopg2.extras\n",
    "import pandas as pd\n",
    "from PIL import Image\n",
    "\n",
    "# adds the package path to the Python path to make sure all the local imports work fine \n",
    "if os.path.dirname(os.path.dirname(os.getcwd())) not in sys.path:\n",
    "    sys.path.append(os.path.dirname(os.path.dirname(os.getcwd())))\n",
    "    \n",
    "from flares_package.constants import DB_HOST, DB_NAME, DB_USER, DB_PASS, DATA_DIR_DEM, DATA_DIR_LC"
   ]
  },
  {
   "cell_type": "markdown",
   "id": "0fb32586",
   "metadata": {},
   "source": [
    "### Create Xarray dataset with the longitude and latitude dimenstions, to store the information in"
   ]
  },
  {
   "cell_type": "code",
   "execution_count": 2,
   "id": "c96353f1",
   "metadata": {},
   "outputs": [],
   "source": [
    "lat_values = np.arange(55.65, 51.25, -0.1)\n",
    "lon_values = np.arange(348.65, 354.75, 0.1)\n",
    "\n",
    "grid = xr.Dataset(coords={'longitude':lon_values, 'latitude': lat_values})"
   ]
  },
  {
   "cell_type": "markdown",
   "id": "43e4a97e",
   "metadata": {},
   "source": [
    "## Combine resampled DEM & Slope rasters into xarray dataset"
   ]
  },
  {
   "cell_type": "code",
   "execution_count": 4,
   "id": "5ad8c83a",
   "metadata": {},
   "outputs": [],
   "source": [
    "# DEM \n",
    "\n",
    "corine = Image.open(f\"{DATA_DIR_LC}/ireland/corine_2018_resampled.tif\")\n",
    "corine_ar = xr.DataArray(np.array(corine), [(\"latitude\", lat_values), (\"longitude\", lon_values)])\n",
    "\n",
    "grid['corine'] = corine_ar \n",
    "\n",
    "dem_avg = Image.open(f\"{DATA_DIR_DEM}/dem_ireland_4326_resampled_average.tif\")\n",
    "dem_avg_ar = xr.DataArray(np.array(dem_avg), [(\"latitude\", lat_values), (\"longitude\", lon_values)])\n",
    "\n",
    "grid['elevation_avg'] = dem_avg_ar\n",
    "\n",
    "dem_med = Image.open(f\"{DATA_DIR_DEM}/dem_ireland_4326_resampled_median.tif\")\n",
    "dem_med_ar = xr.DataArray(np.array(dem_med), [(\"latitude\", lat_values), (\"longitude\", lon_values)])\n",
    "\n",
    "grid['elevation_med'] = dem_med_ar\n",
    "\n",
    "dem_q1 = Image.open(f\"{DATA_DIR_DEM}/dem_ireland_4326_resampled_Q1.tif\")\n",
    "dem_q1_ar = xr.DataArray(np.array(dem_q1), [(\"latitude\", lat_values), (\"longitude\", lon_values)])\n",
    "\n",
    "grid['elevation_q1'] = dem_q1_ar\n",
    "\n",
    "dem_q3 = Image.open(f\"{DATA_DIR_DEM}/dem_ireland_4326_resampled_Q3.tif\")\n",
    "dem_q3_ar = xr.DataArray(np.array(dem_q3), [(\"latitude\", lat_values), (\"longitude\", lon_values)])\n",
    "\n",
    "grid['elevation_q3'] = dem_q3_ar"
   ]
  },
  {
   "cell_type": "code",
   "execution_count": 5,
   "id": "50037d69",
   "metadata": {},
   "outputs": [],
   "source": [
    "# Slope\n",
    "\n",
    "slope_avg = Image.open(f\"{DATA_DIR_DEM}/slope_ireland_4326_resampled_average.tif\")\n",
    "slope_avg_ar = xr.DataArray(np.array(slope_avg), [(\"latitude\", lat_values), (\"longitude\", lon_values)])\n",
    "\n",
    "grid['slope_avg'] = slope_avg_ar\n",
    "\n",
    "slope_med = Image.open(f\"{DATA_DIR_DEM}/slope_ireland_4326_resampled_median.tif\")\n",
    "slope_med_ar = xr.DataArray(np.array(slope_med), [(\"latitude\", lat_values), (\"longitude\", lon_values)])\n",
    "\n",
    "grid['slope_med'] = slope_med_ar\n",
    "\n",
    "slope_q1 = Image.open(f\"{DATA_DIR_DEM}/slope_ireland_4326_resampled_Q1.tif\")\n",
    "slope_q1_ar = xr.DataArray(np.array(slope_q1), [(\"latitude\", lat_values), (\"longitude\", lon_values)])\n",
    "\n",
    "grid['slope_q1'] = slope_q1_ar\n",
    "\n",
    "slope_q3 = Image.open(f\"{DATA_DIR_DEM}/slope_ireland_4326_resampled_Q3.tif\")\n",
    "slope_q3_ar = xr.DataArray(np.array(slope_q3), [(\"latitude\", lat_values), (\"longitude\", lon_values)])\n",
    "\n",
    "grid['slope_q3'] = slope_q3_ar"
   ]
  },
  {
   "cell_type": "markdown",
   "id": "91a8cc58",
   "metadata": {},
   "source": [
    "## Create Database Table"
   ]
  },
  {
   "cell_type": "code",
   "execution_count": null,
   "id": "262480b7",
   "metadata": {},
   "outputs": [],
   "source": [
    "conn = psycopg2.connect(dbname=DB_NAME, user=DB_USER, password=DB_PASS, host=DB_HOST)\n",
    "cur = conn.cursor()\n",
    "\n",
    "# create table\n",
    "# column - Geometry, Date/Time, Concentration\n",
    "\n",
    "cur.execute(\n",
    "    f\"\"\"\n",
    "    CREATE TABLE spatial_baseline_info(\n",
    "    ID SERIAL PRIMARY KEY,\n",
    "    GEOMETRY geometry,\n",
    "    CORINE_GRID_CODE SMALLINT,\n",
    "    CORINE_LC_CODE SMALLINT,\n",
    "    CORINE_LABEL_1 varchar(300),\n",
    "    CORINE_LABEL_2 varchar(300),\n",
    "    CORINE_LABEL_3 varchar(300),\n",
    "    ELEVATION_AVG numeric,\n",
    "    ELEVATION_MED numeric,\n",
    "    ELEVATION_Q1 numeric,\n",
    "    ELEVATION_Q3 numeric,\n",
    "    SLOPE_AVG numeric,\n",
    "    SLOPE_MED numeric, \n",
    "    SLOPE_Q1 numeric, \n",
    "    SLOPE_Q3 numeric \n",
    "    )\"\"\"\n",
    "    )\n",
    "\n",
    "conn.commit()"
   ]
  },
  {
   "cell_type": "markdown",
   "id": "f1825d5f",
   "metadata": {},
   "source": [
    "## Add information to database table"
   ]
  },
  {
   "cell_type": "code",
   "execution_count": null,
   "id": "9e62cf71",
   "metadata": {},
   "outputs": [],
   "source": [
    "df_corine_leg = pd.read_csv(f\"{DATA_DIR_LC}\\Legend\\clc_legend.csv\").dropna()\n",
    "\n",
    "conn = psycopg2.connect(dbname=DB_NAME, user=DB_USER, password=DB_PASS, host=DB_HOST)\n",
    "cur = conn.cursor()\n",
    "\n",
    "cur.execute(\"BEGIN\")\n",
    "\n",
    "for lat in lat_values:\n",
    "    for lon in lon_values:\n",
    "        \n",
    "        grid_cell = grid.sel(latitude = lat, longitude=lon)\n",
    "        corine_grid_code = int(grid_cell['corine'].values)\n",
    "        \n",
    "        lc_class_metada = df_corine_leg[df_corine_leg['GRID_CODE'].astype(int) == int(corine_grid_code)]\n",
    "        \n",
    "        corine_lc_code = lc_class_metada['CLC_CODE']\n",
    "        corine_label_1 = lc_class_metada['LABEL1'].iloc[0]\n",
    "        corine_label_2 = lc_class_metada['LABEL2'].iloc[0]\n",
    "        corine_label_3 = lc_class_metada['LABEL3'].iloc[0]\n",
    "        elevation_avg = grid_cell['elevation_avg'].values\n",
    "        elevation_med = grid_cell['elevation_med'].values\n",
    "        elevation_q1 = grid_cell['elevation_q1'].values\n",
    "        elevation_q3 = grid_cell['elevation_q3'].values\n",
    "        slope_avg = grid_cell['slope_avg'].values\n",
    "        slope_med = grid_cell['slope_med'].values\n",
    "        slope_q1 = grid_cell['slope_q1'].values\n",
    "        slope_q3 = grid_cell['slope_q3'].values\n",
    "        \n",
    "        values = (\n",
    "            round(float(lon - 360), 2),\n",
    "            round(float(lat), 2),\n",
    "            int(corine_grid_code),\n",
    "            int(corine_lc_code),\n",
    "            corine_label_1,\n",
    "            corine_label_2,\n",
    "            corine_label_3,\n",
    "            round(float(elevation_avg), 2),\n",
    "            round(float(elevation_med), 2),\n",
    "            round(float(elevation_q1), 2),\n",
    "            round(float(elevation_q3), 2),\n",
    "            round(float(slope_avg), 2),\n",
    "            round(float(slope_med), 2),\n",
    "            round(float(slope_q1), 2),\n",
    "            round(float(slope_q3), 2),\n",
    "        )\n",
    "        \n",
    "        cur.execute(f\"\"\"\n",
    "            INSERT INTO spatial_baseline_info (\n",
    "                GEOMETRY,\n",
    "                CORINE_GRID_CODE,\n",
    "                CORINE_LC_CODE,\n",
    "                CORINE_LABEL_1,\n",
    "                CORINE_LABEL_2,\n",
    "                CORINE_LABEL_3,\n",
    "                ELEVATION_AVG,\n",
    "                ELEVATION_MED,\n",
    "                ELEVATION_Q1,\n",
    "                ELEVATION_Q3,\n",
    "                SLOPE_AVG,\n",
    "                SLOPE_MED,\n",
    "                SLOPE_Q1,\n",
    "                SLOPE_Q3\n",
    "                ) VALUES (ST_SetSRID(ST_MakePoint(%s,%s), 4326), %s, %s, %s, %s, %s, %s, %s, %s, %s, %s, %s, %s, %s)\"\"\", values)\n",
    "        conn.commit()"
   ]
  }
 ],
 "metadata": {
  "kernelspec": {
   "display_name": "Python 3",
   "language": "python",
   "name": "python3"
  },
  "language_info": {
   "codemirror_mode": {
    "name": "ipython",
    "version": 3
   },
   "file_extension": ".py",
   "mimetype": "text/x-python",
   "name": "python",
   "nbconvert_exporter": "python",
   "pygments_lexer": "ipython3",
   "version": "3.6.13"
  }
 },
 "nbformat": 4,
 "nbformat_minor": 5
}
